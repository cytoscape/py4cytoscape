{
  "nbformat": 4,
  "nbformat_minor": 0,
  "metadata": {
    "colab": {
      "name": "Importing data",
      "private_outputs": true,
      "provenance": [],
      "toc_visible": true
    },
    "kernelspec": {
      "name": "python3",
      "display_name": "Python 3"
    },
    "language_info": {
      "name": "python"
    }
  },
  "cells": [
    {
      "cell_type": "markdown",
      "metadata": {
        "id": "Ju-S3cz4AOIy"
      },
      "source": [
        "# Importing data\n",
        "***by Kozo Nishida, Alexander Pico, Barry Demchak***\n",
        "\n",
        "**2021-04-04**\n",
        "\n",
        "**Package**\n",
        "py4cytoscape 0.0.8\n",
        "\n",
        "This notebook will show you how to import a pandas.DataFrame of node attributes into Cytoscape as Node Table columns. The same approach works for edge and network attriubutes.\n",
        "\n",
        "## Installation\n"
      ]
    },
    {
      "cell_type": "code",
      "metadata": {
        "id": "wObHRBcTBCGn"
      },
      "source": [
        "%%capture\n",
        "!python3 -m pip install python-igraph requests pandas networkx\n",
        "!python3 -m pip install py4cytoscape"
      ],
      "execution_count": null,
      "outputs": []
    },
    {
      "cell_type": "markdown",
      "metadata": {
        "id": "GSNogNqZHH-j"
      },
      "source": [
        "## Required Software\n",
        "\n",
        "In addition to this package (py4cytoscape), you will need:\n",
        "\n",
        "Cytoscape 3.8.1 or greater + [FileTransfer App](https://apps.cytoscape.org/apps/filetransfer), which can be downloaded from http://www.cytoscape.org/download.php. Simply follow the installation instructions on screen.\n",
        "\n",
        "Once you have Cytoscape installed in your desktop environment, launch Cytoscape and keep it running whenever using py4cytoscape.\n",
        "\n",
        "In addition to that, if you are now running this Notebook on Google Colab, you need to run the code below. (If you're running this notebook on your local Jupyter, you don't need to.)"
      ]
    },
    {
      "cell_type": "code",
      "metadata": {
        "id": "OsBJwE2AHMjy"
      },
      "source": [
        "import IPython\n",
        "import py4cytoscape as p4c\n",
        "print(f'Loading Javascript client ... {p4c.get_browser_client_channel()} on {p4c.get_jupyter_bridge_url()}')\n",
        "browser_client_js = p4c.get_browser_client_js()\n",
        "IPython.display.Javascript(browser_client_js) # Start browser client"
      ],
      "execution_count": null,
      "outputs": []
    },
    {
      "cell_type": "code",
      "metadata": {
        "id": "KYED8rnqHSjH"
      },
      "source": [
        "p4c.cytoscape_ping()"
      ],
      "execution_count": null,
      "outputs": []
    },
    {
      "cell_type": "markdown",
      "metadata": {
        "id": "N6uhTwyyHPIq"
      },
      "source": [
        "## Always Start with a Network\n",
        "\n",
        "When importing data, you are actually performing a merge function of sorts, appending columns to nodes (or edges) that are present in the referenced network. Data that do not match elements in the network are effectively discarded upon import.\n",
        "\n",
        "So, in order to demonstrate data import, we first need to have a network. This command will import network files in any of the supported formats (e.g., SIF, GML, XGMML, etc)."
      ]
    },
    {
      "cell_type": "code",
      "metadata": {
        "id": "NioGnuNRQb6l"
      },
      "source": [
        "!wget https://raw.githubusercontent.com/cytoscape/cytoscape-automation/master/for-scripters/Python/data/galFiltered.sif"
      ],
      "execution_count": null,
      "outputs": []
    },
    {
      "cell_type": "markdown",
      "metadata": {
        "id": "ILT3amB4h6xQ"
      },
      "source": [
        "In order to import the \"SIF\" file into Cytoscape, it must be on the local machine where Cytoscape installed, not on Colab.\n",
        "So use the FileTransfer App to send the SIF file local file system from Colab.\n",
        "\n",
        "By the way, this operation is necessary even if you are using a local Jupyter Notebook instead of Colab. \n",
        "(This prevents reproducibility problems depending on the file path.)\n"
      ]
    },
    {
      "cell_type": "code",
      "metadata": {
        "id": "rvk-8xvPReB1"
      },
      "source": [
        "p4c.sandbox_send_to(\"galFiltered.sif\")"
      ],
      "execution_count": null,
      "outputs": []
    },
    {
      "cell_type": "markdown",
      "metadata": {
        "id": "ZHhK453klt9k"
      },
      "source": [
        "If you are using py4cytoscape in Jupyter Notebook, `import_network_from_file` will always try to read the file under the sandbox filepath."
      ]
    },
    {
      "cell_type": "code",
      "metadata": {
        "id": "ig1iHnM2SjXm"
      },
      "source": [
        "p4c.import_network_from_file(\"galFiltered.sif\")"
      ],
      "execution_count": null,
      "outputs": []
    },
    {
      "cell_type": "markdown",
      "metadata": {
        "id": "JfLjLvCXS7yp"
      },
      "source": [
        "You should now see a network with just over 300 nodes. If you look at the Node Table, you’ll see that there are no attributes other than node names. Let’s fix that…\n",
        "\n"
      ]
    },
    {
      "cell_type": "markdown",
      "metadata": {
        "id": "7vu5TLgCTH0k"
      },
      "source": [
        "## Import Data\n",
        "You can import data into Cytoscape from any pandas.DataFrame in Python as long as it contains row names (or an arbitrary column) that match a Node Table column in Cytoscape. In this example, we are starting with a network with yeast identifiers in the “name” column. We also have a CSV file with gene expression data values keyed by yeast identifiers here:"
      ]
    },
    {
      "cell_type": "code",
      "metadata": {
        "id": "JlWfJpRoY_4z"
      },
      "source": [
        "!wget https://raw.githubusercontent.com/cytoscape/RCy3/master/inst/extdata/galExpData.csv"
      ],
      "execution_count": null,
      "outputs": []
    },
    {
      "cell_type": "code",
      "metadata": {
        "id": "dLmdB5X1H7MB"
      },
      "source": [
        "import pandas as pd\n",
        "data = pd.read_csv(\"galExpData.csv\")"
      ],
      "execution_count": null,
      "outputs": []
    },
    {
      "cell_type": "code",
      "metadata": {
        "id": "7PyF3aOkZQa2"
      },
      "source": [
        "data"
      ],
      "execution_count": null,
      "outputs": []
    },
    {
      "cell_type": "markdown",
      "metadata": {
        "id": "WeGXEOpsZfLD"
      },
      "source": [
        "**Note: there may be times where your network and data identifers are of different types. This calls for identifier mapping. py4cytoscape provides a function to perform ID mapping in Cytoscape:**"
      ]
    },
    {
      "cell_type": "code",
      "metadata": {
        "id": "YsI0lu1jZZwS"
      },
      "source": [
        "?p4c.map_table_column"
      ],
      "execution_count": null,
      "outputs": []
    },
    {
      "cell_type": "markdown",
      "metadata": {
        "id": "KLox48_cZxlL"
      },
      "source": [
        "Check out the Identifier mapping notebook for detailed examples.\n",
        "\n",
        "Now we have a pandas.DataFrame that includes our identifiers in a column called “name”, plus a bunch of data columns. Knowing our key columns, we can now perform the import:"
      ]
    },
    {
      "cell_type": "code",
      "metadata": {
        "id": "cvLzw7nJZtJa"
      },
      "source": [
        "p4c.load_table_data(data, data_key_column=\"name\")"
      ],
      "execution_count": null,
      "outputs": []
    },
    {
      "cell_type": "markdown",
      "metadata": {
        "id": "JRtIfbhomAuc"
      },
      "source": [
        "If you look back at the Node Table, you’ll now see that the corresponding rows of our pandas.DataFrame have been imported as new columns.\n",
        "\n",
        "**Note: we relied on the default values for table (“node”) and table_key_column (“name”), but these can be specified as well. See help docs for parameter details.**"
      ]
    },
    {
      "cell_type": "code",
      "metadata": {
        "id": "9wjsrdxYmDqT"
      },
      "source": [
        "?p4c.load_table_data"
      ],
      "execution_count": null,
      "outputs": []
    }
  ]
}