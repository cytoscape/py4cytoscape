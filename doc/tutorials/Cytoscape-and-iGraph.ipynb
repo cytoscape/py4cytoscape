{
 "cells": [
  {
   "cell_type": "markdown",
   "metadata": {
    "id": "BGDENCpVoVap"
   },
   "source": [
    "# Cytoscape and igraph\n",
    "[![Open In Colab](https://colab.research.google.com/assets/colab-badge.svg)](https://colab.research.google.com/github/cytoscape/py4cytoscape/blob/0.0.10/doc/tutorials/Cytoscape-and-iGraph.ipynb)\n",
    "\n",
    "**by Kozo Nishida, Alexander Pico, Barry Demchak**\n",
    "\n",
    "**py4cytoscape 0.0.10**\n",
    "\n",
    "This notebook will show you how to convert networks between igraph and Cytoscape.\n",
    "\n",
    "## Prerequisites\n",
    "In addition to this package (py4cytoscape), you will need:\n",
    "\n",
    "- Cytoscape 3.8 or greater, which can be downloaded from https://cytoscape.org/download.html. Simply follow the installation instructions on screen.\n",
    "- Complete installation wizard\n",
    "- Launch Cytoscape\n",
    "\n",
    "**NOTE: To run this notebook, you must manually start Cytoscape first – don’t proceed until you have started Cytoscape.**\n",
    "\n",
    "### Setup required only in a remote notebook environment\n",
    "If you're using a remote Jupyter Notebook environment such as Google Colab, run the cell below.\n",
    "(If you're running a local Jupyter Notebook server on the desktop machine same with Cytoscape, you don't need to do that.)"
   ]
  },
  {
   "cell_type": "code",
   "execution_count": null,
   "metadata": {
    "id": "rW3kPNE_oBVi"
   },
   "outputs": [],
   "source": [
    "_PY4CYTOSCAPE = 'git+https://github.com/cytoscape/py4cytoscape@0.0.10'\n",
    "import requests\n",
    "exec(requests.get(\"https://raw.githubusercontent.com/cytoscape/jupyter-bridge/master/client/p4c_init.py\").text)\n",
    "IPython.display.Javascript(_PY4CYTOSCAPE_BROWSER_CLIENT_JS) # Start browser client"
   ]
  },
  {
   "cell_type": "markdown",
   "metadata": {
    "id": "MJuRPckpoVDG"
   },
   "source": [
    "### Sanity test to verify Cytoscape connection\n",
    "By now, the connection to Cytoscape should be up and available. To verify this, try a simple operation that doesn't alter the state of Cytoscape."
   ]
  },
  {
   "cell_type": "code",
   "execution_count": 1,
   "metadata": {
    "id": "nJg--PWSpkoh"
   },
   "outputs": [
    {
     "name": "stdout",
     "output_type": "stream",
     "text": [
      "You are connected to Cytoscape!\n"
     ]
    },
    {
     "data": {
      "text/plain": [
       "{'apiVersion': 'v1',\n",
       " 'cytoscapeVersion': '3.8.2',\n",
       " 'automationAPIVersion': '1.2.0',\n",
       " 'py4cytoscapeVersion': '0.0.10'}"
      ]
     },
     "execution_count": 1,
     "metadata": {},
     "output_type": "execute_result"
    }
   ],
   "source": [
    "import py4cytoscape as p4c\n",
    "p4c.cytoscape_ping()\n",
    "p4c.cytoscape_version_info()"
   ]
  },
  {
   "cell_type": "markdown",
   "metadata": {
    "id": "q_NZMRsMpvIQ"
   },
   "source": [
    "## From igraph to Cytoscape\n",
    "\n",
    "The igraph package is a popular network tool among Python users. With py4cytoscape, you can easily translate igraph networks to Cytoscape networks!\n",
    "\n",
    "Here is a basic igraph network construction from the Graph.DataFrame docs, https://igraph.org/python/doc/tutorial/generation.html#from-pandas-dataframe-s"
   ]
  },
  {
   "cell_type": "code",
   "execution_count": 2,
   "metadata": {
    "id": "BNvFcCX5pqKA"
   },
   "outputs": [],
   "source": [
    "import pandas as pd\n",
    "from igraph import Graph\n",
    "\n",
    "actors = pd.DataFrame(data={'name': [\"Alice\", \"Bob\", \"Cecil\", \"David\", \"Esmeralda\"],\n",
    "                             'age': [48,33,45,34,21],\n",
    "                             'gender': [\"F\",\"M\",\"F\",\"M\",\"F\"]\n",
    "                             })\n",
    "\n",
    "relations = pd.DataFrame(data={'from': [\"Bob\", \"Cecil\", \"Cecil\", \"David\", \"David\", \"Esmeralda\"],\n",
    "                               'to': [\"Alice\", \"Bob\", \"Alice\", \"Alice\", \"Bob\", \"Alice\"],\n",
    "                               'same_dept': [False, False, True, False, False, True],\n",
    "                               'friendship': [4,5,5,2,1,1],\n",
    "                               'advice': [4,5,5,4,2,3]\n",
    "                               })\n",
    "\n",
    "ig = Graph.DataFrame(relations, directed=True, vertices=actors)"
   ]
  },
  {
   "cell_type": "markdown",
   "metadata": {
    "id": "bqPaK1tStDO3"
   },
   "source": [
    "You now have an igraph network, ig.\n",
    "In order to translate the network together with all vertex (node) and edge attributes over to Cytoscape, simply use:"
   ]
  },
  {
   "cell_type": "code",
   "execution_count": 3,
   "metadata": {
    "id": "sp03WTLdq6yX"
   },
   "outputs": [
    {
     "name": "stdout",
     "output_type": "stream",
     "text": [
      "Applying default style...\n",
      "Applying preferred layout\n"
     ]
    },
    {
     "data": {
      "text/plain": [
       "{'networkSUID': 51}"
      ]
     },
     "execution_count": 3,
     "metadata": {},
     "output_type": "execute_result"
    }
   ],
   "source": [
    "p4c.create_network_from_igraph(ig, \"myIgraph\")"
   ]
  },
  {
   "cell_type": "code",
   "execution_count": 4,
   "metadata": {},
   "outputs": [
    {
     "data": {
      "image/png": "[encoded data removed]",
      "text/plain": [
       "<IPython.core.display.Image object>"
      ]
     },
     "execution_count": 4,
     "metadata": {},
     "output_type": "execute_result"
    }
   ],
   "source": [
    "p4c.notebook_show_image()"
   ]
  },
  {
   "cell_type": "markdown",
   "metadata": {
    "id": "2DtLHnxMrIMk"
   },
   "source": [
    "## From Cytoscape to igraph\n",
    "\n",
    "Inversely, you can use create_igraph_from_network() in py4cytoscape to retrieve vertex (node) and edge DataFrames to construct an igraph network.\n"
   ]
  },
  {
   "cell_type": "code",
   "execution_count": 5,
   "metadata": {
    "id": "Ldcold8sq5Vh"
   },
   "outputs": [],
   "source": [
    "ig2 = p4c.create_igraph_from_network(\"myIgraph\")"
   ]
  },
  {
   "cell_type": "markdown",
   "metadata": {
    "id": "MRmXpqvmrfQ1"
   },
   "source": [
    "Compare the round-trip result for yourself…"
   ]
  },
  {
   "cell_type": "code",
   "execution_count": 7,
   "metadata": {
    "id": "y6pzE0G8rYSZ"
   },
   "outputs": [
    {
     "name": "stdout",
     "output_type": "stream",
     "text": [
      "IGRAPH DN-- 5 6 --\n",
      "+ attr: age (v), gender (v), name (v), advice (e), friendship (e), same_dept\n",
      "  (e)\n",
      "+ edges (vertex names):\n",
      "Bob->Alice, Cecil->Bob, Cecil->Alice, David->Alice, David->Bob,\n",
      "Esmeralda->Alice\n"
     ]
    }
   ],
   "source": [
    "print(ig)"
   ]
  },
  {
   "cell_type": "code",
   "execution_count": 8,
   "metadata": {
    "id": "p2G2tZF9rhNq"
   },
   "outputs": [
    {
     "name": "stdout",
     "output_type": "stream",
     "text": [
      "IGRAPH DN-- 5 6 --\n",
      "+ attr: age (v), gender (v), id (v), name (v), selected (v), shared name (v),\n",
      "  advice (e), data.key.column (e), friendship (e), interaction (e), name (e),\n",
      "  same_dept (e), selected (e), shared interaction (e), shared name (e), source\n",
      "  (e), target (e)\n",
      "+ edges (vertex names):\n",
      "Bob->Alice, Cecil->Bob, Cecil->Alice, David->Alice, David->Bob,\n",
      "Esmeralda->Alice\n"
     ]
    }
   ],
   "source": [
    "print(ig2)"
   ]
  },
  {
   "cell_type": "markdown",
   "metadata": {
    "id": "oVjLiutaryAM"
   },
   "source": [
    "Note that a few additional attributes are present which are used by Cytoscape to support node/edge selection and network collections.\n",
    "\n",
    "**Also note: All networks in Cytoscape are implicitly modeled as *directed*. This means that if you start with an *undirected* network in igraph and then convert it round-trip (like described above), then you will end up with a *directed* network.**\n"
   ]
  },
  {
   "cell_type": "code",
   "execution_count": null,
   "metadata": {
    "id": "un5TFtROrlPY"
   },
   "outputs": [],
   "source": []
  }
 ],
 "metadata": {
  "colab": {
   "name": "Cytoscape and igraph",
   "private_outputs": true,
   "provenance": []
  },
  "kernelspec": {
   "display_name": "Python 3 (ipykernel)",
   "language": "python",
   "name": "python3"
  },
  "language_info": {
   "codemirror_mode": {
    "name": "ipython",
    "version": 3
   },
   "file_extension": ".py",
   "mimetype": "text/x-python",
   "name": "python",
   "nbconvert_exporter": "python",
   "pygments_lexer": "ipython3",
   "version": "3.8.10"
  }
 },
 "nbformat": 4,
 "nbformat_minor": 4
}
