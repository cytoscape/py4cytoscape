{
  "nbformat": 4,
  "nbformat_minor": 0,
  "metadata": {
    "colab": {
      "name": "Cytoscape and igraph",
      "private_outputs": true,
      "provenance": []
    },
    "kernelspec": {
      "name": "python3",
      "display_name": "Python 3"
    },
    "language_info": {
      "name": "python"
    }
  },
  "cells": [
    {
      "cell_type": "markdown",
      "metadata": {
        "id": "BGDENCpVoVap"
      },
      "source": [
        "# Cytoscape and igraph\n",
        "***by Kozo Nishida, Alexander Pico, Barry Demchak***\n",
        "\n",
        "**2021-04-11**\n",
        "\n",
        "**Package**\n",
        "\n",
        "py4cytoscape 0.0.9\n",
        "\n",
        "This notebook will show you how to convert networks between igraph and Cytoscape.\n",
        "\n",
        "## Installation\n"
      ]
    },
    {
      "cell_type": "code",
      "metadata": {
        "id": "rW3kPNE_oBVi"
      },
      "source": [
        "%%capture\n",
        "!python3 -m pip install python-igraph requests pandas networkx\n",
        "!python3 -m pip install git+https://github.com/cytoscape/py4cytoscape.git@0.0.9"
      ],
      "execution_count": null,
      "outputs": []
    },
    {
      "cell_type": "markdown",
      "metadata": {
        "id": "MJuRPckpoVDG"
      },
      "source": [
        "## Required Software\n",
        "\n",
        "In addition to this package (py4cytoscape), you will need:\n",
        "\n",
        "Cytoscape 3.8.2 or greater + [FileTransfer App](https://apps.cytoscape.org/apps/filetransfer), which can be downloaded from http://www.cytoscape.org/download.php. Simply follow the installation instructions on screen.\n",
        "\n",
        "Once you have Cytoscape installed in your desktop environment, launch Cytoscape and keep it running whenever using py4cytoscape.\n",
        "\n",
        "In addition to that, if you are now running this Notebook on Google Colab, you need to run the code below. (If you're running this notebook on your local Jupyter, you don't need to.)"
      ]
    },
    {
      "cell_type": "code",
      "metadata": {
        "id": "Ix23USqGpgd5"
      },
      "source": [
        "import IPython\n",
        "import py4cytoscape as p4c\n",
        "print(f'Loading Javascript client ... {p4c.get_browser_client_channel()} on {p4c.get_jupyter_bridge_url()}')\n",
        "browser_client_js = p4c.get_browser_client_js()\n",
        "IPython.display.Javascript(browser_client_js) # Start browser client"
      ],
      "execution_count": null,
      "outputs": []
    },
    {
      "cell_type": "code",
      "metadata": {
        "id": "nJg--PWSpkoh"
      },
      "source": [
        "p4c.cytoscape_ping()"
      ],
      "execution_count": null,
      "outputs": []
    },
    {
      "cell_type": "markdown",
      "metadata": {
        "id": "q_NZMRsMpvIQ"
      },
      "source": [
        "## From igraph to Cytoscape\n",
        "\n",
        "The igraph package is a popular network tool among Python users. With py4cytoscape, you can easily translate igraph networks to Cytoscape networks!\n",
        "\n",
        "Here is a basic igraph network construction from the Graph.DataFrame docs, https://igraph.org/python/doc/tutorial/generation.html#from-pandas-dataframe-s"
      ]
    },
    {
      "cell_type": "code",
      "metadata": {
        "id": "BNvFcCX5pqKA"
      },
      "source": [
        "import pandas as pd\n",
        "from igraph import Graph\n",
        "\n",
        "actors = pd.DataFrame(data={'name': [\"Alice\", \"Bob\", \"Cecil\", \"David\", \"Esmeralda\"],\n",
        "                             'age': [48,33,45,34,21],\n",
        "                             'gender': [\"F\",\"M\",\"F\",\"M\",\"F\"]\n",
        "                             })\n",
        "\n",
        "relations = pd.DataFrame(data={'from': [\"Bob\", \"Cecil\", \"Cecil\", \"David\", \"David\", \"Esmeralda\"],\n",
        "                               'to': [\"Alice\", \"Bob\", \"Alice\", \"Alice\", \"Bob\", \"Alice\"],\n",
        "                               'same_dept': [False, False, True, False, False, True],\n",
        "                               'friendship': [4,5,5,2,1,1],\n",
        "                               'advice': [4,5,5,4,2,3]\n",
        "                               })\n",
        "\n",
        "ig = Graph.DataFrame(relations, directed=True, vertices=actors)"
      ],
      "execution_count": null,
      "outputs": []
    },
    {
      "cell_type": "markdown",
      "metadata": {
        "id": "bqPaK1tStDO3"
      },
      "source": [
        "You now have an igraph network, ig.\n",
        "In order to translate the network together with all vertex (node) and edge attributes over to Cytoscape, simply use:"
      ]
    },
    {
      "cell_type": "code",
      "metadata": {
        "id": "sp03WTLdq6yX"
      },
      "source": [
        "p4c.create_network_from_igraph(ig, \"myIgraph\")"
      ],
      "execution_count": null,
      "outputs": []
    },
    {
      "cell_type": "markdown",
      "metadata": {
        "id": "2DtLHnxMrIMk"
      },
      "source": [
        "## From Cytoscape to igraph\n",
        "\n",
        "Inversely, you can use create_igraph_from_network() in py4cytoscape to retrieve vertex (node) and edge data.frames to construct an igraph network.\n"
      ]
    },
    {
      "cell_type": "code",
      "metadata": {
        "id": "Ldcold8sq5Vh"
      },
      "source": [
        "ig2 = p4c.create_igraph_from_network(\"myIgraph\")"
      ],
      "execution_count": null,
      "outputs": []
    },
    {
      "cell_type": "markdown",
      "metadata": {
        "id": "MRmXpqvmrfQ1"
      },
      "source": [
        "Compare the round-trip result for yourself…"
      ]
    },
    {
      "cell_type": "code",
      "metadata": {
        "id": "y6pzE0G8rYSZ"
      },
      "source": [
        "print(ig)"
      ],
      "execution_count": null,
      "outputs": []
    },
    {
      "cell_type": "code",
      "metadata": {
        "id": "p2G2tZF9rhNq"
      },
      "source": [
        "print(ig2)"
      ],
      "execution_count": null,
      "outputs": []
    },
    {
      "cell_type": "markdown",
      "metadata": {
        "id": "oVjLiutaryAM"
      },
      "source": [
        "Note that a few additional attributes are present which are used by Cytoscape to support node/edge selection and network collections.\n",
        "\n",
        "**Also note: All networks in Cytoscape are implicitly modeled as *directed*. This means that if you start with an *undirected* network in igraph and then convert it round-trip (like described above), then you will end up with a *directed* network.**\n"
      ]
    },
    {
      "cell_type": "code",
      "metadata": {
        "id": "un5TFtROrlPY"
      },
      "source": [
        ""
      ],
      "execution_count": null,
      "outputs": []
    }
  ]
}