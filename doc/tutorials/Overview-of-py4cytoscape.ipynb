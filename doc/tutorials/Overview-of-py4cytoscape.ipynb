{
  "nbformat": 4,
  "nbformat_minor": 0,
  "metadata": {
    "colab": {
      "name": "Overview of py4cytoscape",
      "private_outputs": true,
      "provenance": []
    },
    "kernelspec": {
      "name": "python3",
      "display_name": "Python 3"
    },
    "language_info": {
      "name": "python"
    }
  },
  "cells": [
    {
      "cell_type": "markdown",
      "metadata": {
        "id": "Ur9_a5pc7Xy0"
      },
      "source": [
        "# Overview of py4cytoscape\n",
        "\n",
        "by Kozo Nishida, Alexander Pico, Tanja Muetze, Georgi Kolishovski, Paul Shannon, Barry Demchak\n",
        "\n",
        "**Package**\n",
        "\n",
        "py4cytoscape 0.0.8\n",
        "\n",
        "Cytoscape is a well-known bioinformatics tool for displaying and exploring biological networks. Python is a powerful programming language and environment for statistical and exploratory data analysis. *py4cytoscape* uses CyREST to communicate between **Python** and Cytoscape, allowing any graphs (e.g., igraph or dataframes) to be viewed, explored and manipulated with the Cytoscape point-and-click visual interface. Thus, via py4cytoscape, these two quite different, quite useful bioinformatics software environments are connected, mutually enhancing each other, providing new possibilities for exploring biological data.\n",
        "\n",
        "## Installation\n"
      ]
    },
    {
      "cell_type": "code",
      "metadata": {
        "id": "Pg2gvsAh8g3y"
      },
      "source": [
        "%%capture\n",
        "!python3 -m pip install python-igraph requests pandas networkx\n",
        "!python3 -m pip install py4cytoscape"
      ],
      "execution_count": null,
      "outputs": []
    },
    {
      "cell_type": "markdown",
      "metadata": {
        "id": "2xhJvplECCMY"
      },
      "source": [
        "## Prerequisites\n",
        "\n",
        "In addition to this package (py4cytoscape), you will need:\n",
        "\n",
        "Cytoscape 3.8.1 or greater + [FileTransfer App](https://apps.cytoscape.org/apps/filetransfer), which can be downloaded from http://www.cytoscape.org/download.php. Simply follow the installation instructions on screen.\n",
        "\n",
        "Once you have Cytoscape installed in your desktop environment,\n",
        "launch Cytoscape and keep it running whenever using py4cytoscape.\n",
        "\n",
        "In addition to that, if you are now running this Notebook on Google Colab, you need to run the code below.\n",
        "(If you're running this notebook on your local Jupyter, you don't need to.)"
      ]
    },
    {
      "cell_type": "code",
      "metadata": {
        "id": "_BfD05Rq8sXd"
      },
      "source": [
        "import IPython\n",
        "import py4cytoscape as p4c\n",
        "print(f'Loading Javascript client ... {p4c.get_browser_client_channel()} on {p4c.get_jupyter_bridge_url()}')\n",
        "browser_client_js = p4c.get_browser_client_js()\n",
        "IPython.display.Javascript(browser_client_js) # Start browser client"
      ],
      "execution_count": null,
      "outputs": []
    },
    {
      "cell_type": "markdown",
      "metadata": {
        "id": "IydRUOmUMnub"
      },
      "source": [
        "## Getting started\n",
        "\n",
        "First, confirm that you have everything installed and running:"
      ]
    },
    {
      "cell_type": "code",
      "metadata": {
        "id": "IjfJHtBTMnB1"
      },
      "source": [
        "p4c.cytoscape_ping()"
      ],
      "execution_count": null,
      "outputs": []
    },
    {
      "cell_type": "code",
      "metadata": {
        "id": "fjp4lyOO9FC8"
      },
      "source": [
        "p4c.cytoscape_version_info()"
      ],
      "execution_count": null,
      "outputs": []
    },
    {
      "cell_type": "markdown",
      "metadata": {
        "id": "2y5PF2G2Nc5-"
      },
      "source": [
        "## My first network\n",
        "\n",
        "Let’s create a Cytoscape network from some basic Python objects\n"
      ]
    },
    {
      "cell_type": "code",
      "metadata": {
        "id": "2hB0TyIX9ipj"
      },
      "source": [
        "import pandas as pd\n",
        "nodes = pd.DataFrame(data={'id': [\"node 0\",\"node 1\",\"node 2\",\"node 3\"], 'group': [\"A\",\"A\",\"B\",\"B\"], 'score': [20,10,15,5]})\n",
        "edges = pd.DataFrame(data={'source': [\"node 0\",\"node 0\",\"node 0\",\"node 2\"], 'target': [\"node 1\",\"node 2\",\"node 3\",\"node 3\"], 'interaction': [\"inhibits\",\"interacts\",\"activates\",\"interacts\"], 'weight': [5.1,3.0,5.2,9.9]})\n",
        "\n",
        "p4c.create_network_from_data_frames(nodes, edges, title=\"my first network\", collection=\"DataFrame Example\")"
      ],
      "execution_count": null,
      "outputs": []
    },
    {
      "cell_type": "markdown",
      "metadata": {
        "id": "54Rza8wlVpBN"
      },
      "source": [
        "### Switch styles\n",
        "\n",
        "Check out the marquee style!"
      ]
    },
    {
      "cell_type": "code",
      "metadata": {
        "id": "fA6l0AUTVdIW"
      },
      "source": [
        "p4c.set_visual_style('Marquee')"
      ],
      "execution_count": null,
      "outputs": []
    },
    {
      "cell_type": "markdown",
      "metadata": {
        "id": "vQ7epxrJV4Cn"
      },
      "source": [
        "### My own style\n",
        "\n",
        "Create your own style with node attribute fill mappings and some defaults"
      ]
    },
    {
      "cell_type": "code",
      "metadata": {
        "id": "mPVLI-yxV3aE"
      },
      "source": [
        "style_name = \"myStyle\"\n",
        "defaults = {'NODE_SHAPE': \"diamond\", 'NODE_SIZE': 30, 'EDGE_TRANSPARENCY': 120, 'NODE_LABEL_POSITION': \"W,E,c,0.00,0.00\"}\n",
        "nodeLabels = p4c.map_visual_property('node label','id','p')\n",
        "nodeFills = p4c.map_visual_property('node fill color','group','d',[\"A\",\"B\"], [\"#FF9900\",\"#66AAAA\"])\n",
        "arrowShapes = p4c.map_visual_property('Edge Target Arrow Shape','interaction','d',[\"activates\",\"inhibits\",\"interacts\"],[\"Arrow\",\"T\",\"None\"])\n",
        "edgeWidth = p4c.map_visual_property('edge width','weight','p')\n",
        "\n",
        "p4c.create_visual_style(style_name, defaults, [nodeLabels,nodeFills,arrowShapes,edgeWidth])\n",
        "p4c.set_visual_style(style_name)"
      ],
      "execution_count": null,
      "outputs": []
    },
    {
      "cell_type": "markdown",
      "metadata": {
        "id": "xC56N0CZagvt"
      },
      "source": [
        "*Pro-tip: if you want to set NODE_WIDTH and NODE_HEIGHT independently, you also need to unlock the node dimensions with…*"
      ]
    },
    {
      "cell_type": "code",
      "metadata": {
        "id": "C5ABkjYvVzbh"
      },
      "source": [
        "p4c.lock_node_dimensions(False, style_name)"
      ],
      "execution_count": null,
      "outputs": []
    },
    {
      "cell_type": "markdown",
      "metadata": {
        "id": "mRj935bJa0IJ"
      },
      "source": [
        "## Biological graph example\n",
        "\n",
        "Here we create a 4-node graph in Python, send it to Cytoscape for display and layout. For the sake of simplicity, no node attributes and no visual styles are included; those topics are covered in subsequent steps."
      ]
    },
    {
      "cell_type": "code",
      "metadata": {
        "id": "EdVJsc6Tax-X"
      },
      "source": [
        "nodes = pd.DataFrame(data={'id': [\"A\", \"B\", \"C\", \"D\"]})\n",
        "edges = pd.DataFrame(data={'source': [\"C\", \"B\", \"B\", \"B\"], 'target': [\"D\", \"A\", \"D\", \"C\"]})\n",
        "\n",
        "p4c.create_network_from_data_frames(nodes, edges, title=\"simple network\", collection=\"Biological Example\")"
      ],
      "execution_count": null,
      "outputs": []
    },
    {
      "cell_type": "markdown",
      "metadata": {
        "id": "5Y6NeJWcb7ml"
      },
      "source": [
        "You should now have the structure of this 4-node graph with a basic, default style. Fortunately, Cytoscape has some built-in rendering rules in which (and unless instructed otherwise) nodes and edges are rendered and a default (user-preference) layout algorithm is applied."
      ]
    },
    {
      "cell_type": "markdown",
      "metadata": {
        "id": "AKg36QvrcBk9"
      },
      "source": [
        "### Add node attributes\n",
        "\n",
        "We often know quite a lot about the nodes and edges in our graphs. By conveying this information visually, the graph will be easier to explore. For instance, we may know that protein A phosphorylates protein B, that A is a kinase and B a transcription factor, and that their mRNA expression (compared to a control) is a log2 fold change of 1.8 and 3.2 respectively. One of the core features of Cytoscape is visual styles, which allow you to specify how data values (e.g., kinase,transcription factor; expression ratios) should be conveyed in the visual properties of the graph (e.g., node shape, node color or size).\n",
        "\n",
        "We continue with the simple 4-node graph, adding two kinds data values (moleculeType and log2fc). The easiest way to do this is via pandas DataFrame s. However, you can also include attributes together with the original graph models as igraph s or pandas DataFrame s and then use the provided create functions to create and load in a single step (see *p4c.create_network_from_igraph() and p4c.create_network_from_data_frames()* functions). Check out the other Notebooks for more examples.\n"
      ]
    },
    {
      "cell_type": "code",
      "metadata": {
        "id": "XIMxB8KndUoj"
      },
      "source": [
        "df = pd.DataFrame(data={'moleculeType': ['kinase','TF','cytokine','cytokine'], 'log2fc': [1.8,3.0,-1.2,-2.5]})\n",
        "df.index = ['A','B','C','D']"
      ],
      "execution_count": null,
      "outputs": []
    },
    {
      "cell_type": "code",
      "metadata": {
        "id": "c4JSigNVdUl-"
      },
      "source": [
        "p4c.load_table_data(df)"
      ],
      "execution_count": null,
      "outputs": []
    },
    {
      "cell_type": "markdown",
      "metadata": {
        "id": "BxC2YxCOej7j"
      },
      "source": [
        "Note that adding the attributes does not in itself cause the appearance of the graph to change. Such a change requires that you specify and apply visual style mappings, which will be explained in the *next* section. You can, however, examine these attributes in Cytoscape, using Cytoscape’s the **Data Panel** to display data values associated with selected nodes immediately below the Cytoscape window.\n",
        "\n",
        "### Modifying the display: defaults and mappings\n",
        "\n",
        "py4cytoscape provides an easy way to not only change the default styles, but more interestingly, py4cytoscape also provides easy access to *mapping* your data to visual styles, e.g., allowing the size, shape and color of nodes and edges to be determined by the data you have associated with those nodes and edges.\n",
        "\n",
        "First, let’s change the the defaults."
      ]
    },
    {
      "cell_type": "code",
      "metadata": {
        "id": "tBbJOvCgbjpI"
      },
      "source": [
        "p4c.set_node_shape_default('OCTAGON')"
      ],
      "execution_count": null,
      "outputs": []
    },
    {
      "cell_type": "code",
      "metadata": {
        "id": "aWpd-l1Pfj7u"
      },
      "source": [
        "p4c.set_node_color_default('#AAFF88')"
      ],
      "execution_count": null,
      "outputs": []
    },
    {
      "cell_type": "code",
      "metadata": {
        "id": "rAIq4TBwftjb"
      },
      "source": [
        "p4c.set_node_size_default(60)"
      ],
      "execution_count": null,
      "outputs": []
    },
    {
      "cell_type": "code",
      "metadata": {
        "id": "oRdILA-Pfy-k"
      },
      "source": [
        "p4c.set_node_font_size_default(30)"
      ],
      "execution_count": null,
      "outputs": []
    },
    {
      "cell_type": "markdown",
      "metadata": {
        "id": "9Z38lNsygO_B"
      },
      "source": [
        "Now we will add some visual mappings. Let’s map `moleculeType’ to node shapes. First, we can see which shapes are available in Cytoscape, then we can define the mapping with paired lists.\n"
      ]
    },
    {
      "cell_type": "code",
      "metadata": {
        "id": "_0uIQrSof6nY"
      },
      "source": [
        "p4c.get_node_shapes()"
      ],
      "execution_count": null,
      "outputs": []
    },
    {
      "cell_type": "code",
      "metadata": {
        "id": "Q6RMvqlvgWFh"
      },
      "source": [
        "column = 'moleculeType'\n",
        "values = ['kinase', 'TF', 'cytokine']\n",
        "shapes = ['DIAMOND', 'TRIANGLE', 'RECTANGLE']\n",
        "\n",
        "p4c.set_node_shape_mapping(column, values, shapes)"
      ],
      "execution_count": null,
      "outputs": []
    },
    {
      "cell_type": "markdown",
      "metadata": {
        "id": "I5KDtWhdguRR"
      },
      "source": [
        "The node shape mapping is an example of a *discrete* mapping, where a style is defined for each, discrete value. This is useful for categorical data (like type) where there is only a limited set of possible values. This is in contast to the other two other types of mappings: *continuous* and *passthrough*. In the case of expression values, for example, we will want to use *continuous* mapping (e.g., to node color), defining a small set of control points, rather than an explicit color for each possible data value. Cytoscape will simply interpolate between the control points to provide a gradient of colors. Let’s try that one now"
      ]
    },
    {
      "cell_type": "code",
      "metadata": {
        "id": "cKPgc6Olgp7B"
      },
      "source": [
        "column = 'log2fc'\n",
        "control_points = [-3.0, 0.0, 3.0]\n",
        "colors = ['#5588DD', '#FFFFFF', '#DD8855']\n",
        "\n",
        "p4c.set_node_color_mapping(column, control_points, colors)"
      ],
      "execution_count": null,
      "outputs": []
    },
    {
      "cell_type": "markdown",
      "metadata": {
        "id": "zllNOIcLhcUZ"
      },
      "source": [
        "Note that there are three colors and three control points. However, you can also specify *two additional* colors beyond the number of control points if you want to set extreme (or out-of-bounds) colors for values less than or greater than your control points."
      ]
    },
    {
      "cell_type": "code",
      "metadata": {
        "id": "tahTwoyvhW--"
      },
      "source": [
        "control_points = [-2.0, 0.0, 2.0]\n",
        "colors = ['#2255CC', '#5588DD', '#FFFFFF', '#DD8855', '#CC5522']\n",
        "\n",
        "p4c.set_node_color_mapping(column, control_points, colors)"
      ],
      "execution_count": null,
      "outputs": []
    },
    {
      "cell_type": "markdown",
      "metadata": {
        "id": "WwrJnTqHiByp"
      },
      "source": [
        "Now, add a node size rule, using *log2fc* again as controlling node values."
      ]
    },
    {
      "cell_type": "code",
      "metadata": {
        "id": "75Seuarph5vn"
      },
      "source": [
        "control_points = [-3.0, 2.0, 3.0]\n",
        "sizes = [20, 80, 90]\n",
        "p4c.set_node_size_mapping(column, control_points, sizes)"
      ],
      "execution_count": null,
      "outputs": []
    },
    {
      "cell_type": "markdown",
      "metadata": {
        "id": "zW5zuZQCia1b"
      },
      "source": [
        "If you recall the third type of mapping, *passthrough*, we can see it already working in our current network example. The node labels! By default, the *name* column is mapped to the node label property using *passthrough* logic: the value is passed directly to the style property.\n",
        "\n",
        "### Selecting nodes\n",
        "\n",
        "Let us now try selecting nodes in Cytoscape from Python. Select the C node by name:\n"
      ]
    },
    {
      "cell_type": "code",
      "metadata": {
        "id": "twiH47EPiajZ"
      },
      "source": [
        "p4c.select_nodes('C', 'name')"
      ],
      "execution_count": null,
      "outputs": []
    },
    {
      "cell_type": "code",
      "metadata": {
        "id": "WJ6apeI7iSmG"
      },
      "source": [
        "p4c.get_selected_nodes()"
      ],
      "execution_count": null,
      "outputs": []
    },
    {
      "cell_type": "markdown",
      "metadata": {
        "id": "5lYkc_cekA5S"
      },
      "source": [
        "Now we wish to extend the selected nodes to include the first neighbors of the already-selected node B. This is a common operation: for instance, after selecting one or more nodes based on experimental data or annotation, you may want to explore these in the context of interaction partners (in a protein-protein network) or in relation to upstream and downstream partners in a signaling or metabolic network. Type:"
      ]
    },
    {
      "cell_type": "code",
      "metadata": {
        "id": "KIl9dkV_jz69"
      },
      "source": [
        "p4c.select_first_neighbors()"
      ],
      "execution_count": null,
      "outputs": []
    },
    {
      "cell_type": "markdown",
      "metadata": {
        "id": "abftXp59koK4"
      },
      "source": [
        "You will see that three nodes are now selected. Get their names back to Python as a list:"
      ]
    },
    {
      "cell_type": "code",
      "metadata": {
        "id": "PKkBXSGSkkdK"
      },
      "source": [
        "node_names = p4c.get_selected_nodes()"
      ],
      "execution_count": null,
      "outputs": []
    },
    {
      "cell_type": "code",
      "metadata": {
        "id": "AevXmXmokvKn"
      },
      "source": [
        "node_names"
      ],
      "execution_count": null,
      "outputs": []
    },
    {
      "cell_type": "markdown",
      "metadata": {
        "id": "09ORQ22ek1G6"
      },
      "source": [
        "And, finally, deselection works as you’d expect by means of a general *p4c.clearSelection()* function:"
      ]
    },
    {
      "cell_type": "code",
      "metadata": {
        "id": "wh6bTJ50kyRk"
      },
      "source": [
        "p4c.clear_selection()"
      ],
      "execution_count": null,
      "outputs": []
    },
    {
      "cell_type": "code",
      "metadata": {
        "id": "0p2-wseOlBUF"
      },
      "source": [
        "?p4c.clear_selection"
      ],
      "execution_count": null,
      "outputs": []
    },
    {
      "cell_type": "markdown",
      "metadata": {
        "id": "rkYOKcjTlJlf"
      },
      "source": [
        "## Browse available functions, commands and arguments\n",
        "\n",
        "py4cytoscape functions"
      ]
    },
    {
      "cell_type": "code",
      "metadata": {
        "id": "C_1DK3cbmfHv"
      },
      "source": [
        "help(p4c)"
      ],
      "execution_count": null,
      "outputs": []
    },
    {
      "cell_type": "code",
      "metadata": {
        "id": "WDPS1-nRlEzU"
      },
      "source": [
        "dir(p4c)"
      ],
      "execution_count": null,
      "outputs": []
    },
    {
      "cell_type": "markdown",
      "metadata": {
        "id": "I6PPNy6FmA0K"
      },
      "source": [
        "Category | Description | Examples\n",
        "--- | --- | ---\n",
        "apps | Inspecting and managing apps for Cytoscape. | *install_app<br/> disable_app<br/> get_installed_apps*\n",
        "collections | Getting information about network collections. | *get_collection_list<br/> get_collection_networks*\n",
        "commands | Constructing any arbitrary CyREST API or Commands API method via standard GET, PUT, POST and DELETE protocols. | *cyrest_get<br/> commands_post<br/> cyrest_api<br/> commands_run*\n",
        "cy_ndex | Communicating with NDEx from within Cytoscape. | *import_network_from_ndex<br/> export_network_to_ndex<br/>*\n",
        "cytoscape_system | Checking Cytoscape System information, including versions and memory usage. | *cytoscape_ping<br/> cytoscape_version_info<br/>*\n",
        "filters |\tSelecting nodes and edges based on filter criteria. |*create_degree_filter<br/> create_column_filter<br/>*\n",
        "groups | Working with groups in Cytoscape. | *create_group<br/> collapse_group<br/>*\n",
        "layouts | Performing layouts in addition to getting and setting layout properties. | *layout_network<br/> get_layout_names<br/>*\n",
        "networks | Creating and managing networks and retrieving information on networks, nodes and edges. | *create_network_from…<br/> create…_from_network<br/> get_network_suid<br/> export_network<br/> get_all_nodes<br/> get_edge_count<br/> get_first_neighbors<br/>*\n",
        "network_selection | Manipulating selection of nodes and edges in networks. | *select_nodes<br/> invert_node_selection<br/> select_first_neighbors<br/>*\n",
        "network_views | Performing view operations in addition to getting and setting view properties. | *fit_content<br/> export_image<br/> toggle_graphics_details*\n",
        "session | Managing Cytoscape sessions, including save, open and close. | *open_session<br/> save_session<br/> close_session*\n",
        "style_bypasses | Setting and clearing bypass values for visual properties. | *set_node_color_bypass<br/> set_edge_line_style_bypass<br/> hide_nodes*\n",
        "style_defaults | Getting and setting default values for visual properties. | *set_node_shape_default<br/> set_edge_line_width_default*\n",
        "style_dependencies | Getting and setting style dependencies. | *lock_node_dimensions*\n",
        "style_mappings | Defining mappings between table column values and visual properties. | *map_visual_property<br/> update_style_mapping<br/> set_node_size_mapping<br/> set_edge_color_mapping*\n",
        "styles | Managing styles and retrieving general lists of properties relevant to multiple style modes. | *create_visual_style<br/> set_visual_style<br/> export_visual_styles<br/> get_arrow_shapes*\n",
        "style_values | Retrieving current values for visual properties. | *get_node_width<br/> get_edge_color<br/> get_network_zoom*\n",
        "tables | Managing table columns and table column functions, like map and rename, as well as loading and extracting table data in Cytoscape. | *get_table_columns<br/> rename_table_column<br/> load_table_data<br/> map_table_column*\n",
        "tools | Performing actions found in the Tools Menu in Cytoscape. | *cybrowser_dialog<br/> diffusion_basic*\n",
        "user_interface | Controling the panels in the Cytoscape user interface. | *hide_panel<br/> float_panel<br/> dock_panel*\n",
        "\n",
        "Open swagger docs for live instances of CyREST API and Commands API:\n",
        "\n"
      ]
    },
    {
      "cell_type": "code",
      "metadata": {
        "id": "uq9Hc2VplUyp"
      },
      "source": [
        "p4c.cyrest_api()"
      ],
      "execution_count": null,
      "outputs": []
    },
    {
      "cell_type": "code",
      "metadata": {
        "id": "O1IQY3KT8Kna"
      },
      "source": [
        "p4c.commands_api()"
      ],
      "execution_count": null,
      "outputs": []
    },
    {
      "cell_type": "markdown",
      "metadata": {
        "id": "XBRPTtJ68lXN"
      },
      "source": [
        "List available commands and arguments in Python. Use “help” to list top level:"
      ]
    },
    {
      "cell_type": "code",
      "metadata": {
        "id": "e_5BaI-z8aMW"
      },
      "source": [
        "p4c.commands_help(\"help\")"
      ],
      "execution_count": null,
      "outputs": []
    },
    {
      "cell_type": "markdown",
      "metadata": {
        "id": "oQutmKH19qrj"
      },
      "source": [
        "List **network** commands. Note that “help” is optional:"
      ]
    },
    {
      "cell_type": "code",
      "metadata": {
        "id": "CSTgyF_g8s20"
      },
      "source": [
        "p4c.commands_help(\"help network\")"
      ],
      "execution_count": null,
      "outputs": []
    },
    {
      "cell_type": "markdown",
      "metadata": {
        "id": "E5aYBbvz91MY"
      },
      "source": [
        "List arguments for the **network select** command:"
      ]
    },
    {
      "cell_type": "code",
      "metadata": {
        "id": "HWEC_n9x9ml8"
      },
      "source": [
        "p4c.commands_help(\"help network select\")"
      ],
      "execution_count": null,
      "outputs": []
    },
    {
      "cell_type": "markdown",
      "metadata": {
        "id": "sU3GXhKK-AXr"
      },
      "source": [
        "That covers the basics of network manipulation. Check out the other vignettes for additional amd more complex examples. And when you are ready to work with some real data, check out the other basic and advanced R tutorials, https://github.com/cytoscape/cytoscape-automation/tree/master/for-scripters/Python.\n",
        "\n",
        "## More examples\n",
        "\n",
        "The Cytoscape team is collecting scripts from the community in a public GitHub repository at https://github.com/cytoscape/cytoscape-automation/tree/master/for-scripters/Python.\n",
        "\n",
        "## Development\n",
        "\n",
        "The py4cytoscape project code and documentation is maintained at GitHub: https://github.com/cytoscape/py4cytoscape. All bugs and feature requests are tracked as Issues, https://github.com/cytoscape/py4cytoscape/issues.\n",
        "\n",
        "## Credits\n",
        "\n",
        "- Paul Shannon’s generous advice and mentorship was very important for transforming this package from using XMLRPC and CytoscapeRPC to using CyREST.\n",
        "- David Otasek, Keiichiro Ono and Barry Demchak kindly provided CyREST as well as help and support for new functionalities and changes.\n",
        "- Mark Grimes and Ruth Isserlin kindly provided helpful user feedback.\n",
        "- Julia Gustavsen generously developed various use cases/examples for using RCy3 with biological data during GSOC 2016, https://github.com/jooolia/gsoc_Rcy3_vignettes/blob/master/blog_post_drafts/final_work_submission.md.\n",
        "- Tanja Muetze provided many years of development, design, maintenance and documentation for the RCy3 project.\n",
        "- All contributors, new and old, are dynamically acknowledged in our Contributor Graph, https://github.com/cytoscape/py4cytoscape/graphs/contributors\n",
        "\n",
        "## References\n",
        "\n",
        "1. Shannon P, Markiel A, Ozier O, Baliga NS, Wang JT, Ramage D, Amin N, Schwikowski B, Ideker T. 2003. Cytoscape: a software environment for integrated models of biomolecular interaction networks. Genome Res. Nov;13(11):2498-504\n",
        "2. Huber W, Carey VJ, Long L, Falcon S, Gentleman R. 2007. Graphs in molecular biology. BMC Bioinformatics. 2007 Sep 27;8.\n",
        "3. Ono K, Muetze T, Kolishovski G, Shannon P, Demchak, B. CyREST: Turbocharging Cytoscape Access for External Tools via a RESTful API [version 1; referees: 2 approved]. F1000Research 2015, 4:478.\n"
      ]
    },
    {
      "cell_type": "code",
      "metadata": {
        "id": "RlH4b-NF98Sq"
      },
      "source": [
        ""
      ],
      "execution_count": null,
      "outputs": []
    }
  ]
}