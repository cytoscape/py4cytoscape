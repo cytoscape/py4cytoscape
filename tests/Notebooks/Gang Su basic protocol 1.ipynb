{
 "cells": [
  {
   "cell_type": "markdown",
   "metadata": {
    "pycharm": {
     "name": "#%% md\n"
    }
   },
   "source": [
    "This is a reproduction of the [Biological Network Exploration with Cytoscape 3](https://pubmed.ncbi.nlm.nih.gov/25199793/) Basic Protocol 1, which loads an s. cervesiae network, filters out unneeded nodes, lays out the resulting network, creates clusters of similar nodes and then performs an enrichment calculation on one cluster.\n",
    "\n",
    "Note that this workflow executes in a Jupyter Notebook running on your workstation, and communicates with a copy of Cytoscape also running on your workstation. For a similar workflow that runs on a cloud server (e.g., Google Colab), see [here](https://github.com/bdemchak/cytoscape-jupyter/tree/main/gangsu)."
   ]
  },
  {
   "cell_type": "markdown",
   "metadata": {
    "pycharm": {
     "name": "#%% md\n"
    }
   },
   "source": [
    "---\n",
    "# Setup data files, py4cytoscape and Cytoscape connection\n",
    "**NOTE: To run this notebook, you must manually start Cytoscape first -- don't proceed until you have started Cytoscape.**\n",
    "\n",
    "This workflow requires two files that are located in cloud storage:\n",
    "\n",
    "* BIOGRID-ORGANISM-Saccharomyces_cerevisiae-3.2.105.mitab (network file)\n",
    "* GDS112_full.soft (annotation file)\n",
    "\n",
    "Both files reside in a Dropbox folder, and they are downloaded by this workflow as needed."
   ]
  },
  {
   "cell_type": "markdown",
   "metadata": {
    "pycharm": {
     "name": "#%% md\n"
    }
   },
   "source": [
    "## Setup: Fetch latest py4cytoscape\n",
    "\n",
    "\n"
   ]
  },
  {
   "cell_type": "code",
   "metadata": {
    "pycharm": {
     "name": "#%%\n"
    },
    "ExecuteTime": {
     "end_time": "2024-09-24T21:42:45.530088Z",
     "start_time": "2024-09-24T21:42:45.355902Z"
    }
   },
   "source": [
    "import py4cytoscape as p4c"
   ],
   "outputs": [],
   "execution_count": 13
  },
  {
   "cell_type": "markdown",
   "metadata": {
    "pycharm": {
     "name": "#%% md\n"
    }
   },
   "source": [
    "## Setup: Sanity test to verify Cytoscape connection"
   ]
  },
  {
   "cell_type": "markdown",
   "metadata": {
    "pycharm": {
     "name": "#%% md\n"
    }
   },
   "source": [
    "By now, the connection to Cytoscape should be up and available. To verify this, try a simple operation that doesn't alter the state of Cytoscape."
   ]
  },
  {
   "cell_type": "code",
   "metadata": {
    "pycharm": {
     "name": "#%%\n"
    },
    "ExecuteTime": {
     "end_time": "2024-09-24T21:42:45.728789Z",
     "start_time": "2024-09-24T21:42:45.546786Z"
    }
   },
   "source": [
    "p4c.cytoscape_version_info()\n"
   ],
   "outputs": [
    {
     "data": {
      "text/plain": [
       "{'apiVersion': 'v1',\n",
       " 'cytoscapeVersion': '3.10.2',\n",
       " 'automationAPIVersion': '1.10.0',\n",
       " 'py4cytoscapeVersion': '1.10.0'}"
      ]
     },
     "execution_count": 14,
     "metadata": {},
     "output_type": "execute_result"
    }
   ],
   "execution_count": 14
  },
  {
   "cell_type": "markdown",
   "metadata": {
    "pycharm": {
     "name": "#%% md\n"
    }
   },
   "source": [
    "## Setup: Notebook data files\n",
    "Create the 'output' directory, which will be used to store files uploaded from Cytoscape.\n",
    "\n",
    "This is a good place to prepare any other system resources that might be needed by downstream Notebook cells.\n",
    "\n",
    "Pro Tip: The \"!\" commands in this cell are passed to the host operating system. In this example, they're correct for a Windows host. Different commands would be appropriate for a Linux or Mac host.\n"
   ]
  },
  {
   "cell_type": "code",
   "metadata": {
    "pycharm": {
     "name": "#%%\n"
    },
    "ExecuteTime": {
     "end_time": "2024-09-24T21:42:45.996035Z",
     "start_time": "2024-09-24T21:42:45.800738Z"
    }
   },
   "source": [
    "!del /s/q/f output\n",
    "!rmdir output\n",
    "!mkdir output\n",
    "!dir output\n",
    "OUTPUT_DIR = 'output/'"
   ],
   "outputs": [
    {
     "name": "stdout",
     "output_type": "stream",
     "text": [
      " Volume in drive C has no label.\n",
      " Volume Serial Number is 50EF-8726\n",
      "\n",
      " Directory of C:\\Users\\CyDeveloper\\PycharmProjects\\py4cytoscape\\tests\\Notebooks\\output\n",
      "\n",
      "09/24/2024  02:42 PM    <DIR>          .\n",
      "09/24/2024  02:42 PM    <DIR>          ..\n",
      "               0 File(s)              0 bytes\n",
      "               2 Dir(s)  37,394,010,112 bytes free\n"
     ]
    }
   ],
   "execution_count": 15
  },
  {
   "cell_type": "markdown",
   "metadata": {
    "pycharm": {
     "name": "#%% md\n"
    }
   },
   "source": [
    "## Setup: Import source data files\n",
    "The network and annotation files are in a Dropbox folder, and this cell downloads them into the default Sandbox from where Cytoscape will access them.\n",
    "\n",
    "The files could just as well have been on any cloud resource, including Google Drive, Github, Microsoft OneDrive or a private web site. Note that in this case, the network file was so large that it could not be saved on GitHub, so Dropbox was a handy alternative.\n",
    "\n",
    "*Tip:* An alternative would be to load the files into this Notebook's file system (or create them there) and then download those files to the Sandbox. Loading them into the Notebook file system would require the use of Notebook \"!\" commands (e.g., !wget). wget for Windows can be found [here](https://eternallybored.org/misc/wget/)."
   ]
  },
  {
   "cell_type": "markdown",
   "metadata": {
    "pycharm": {
     "name": "#%% md\n"
    }
   },
   "source": [
    "---\n",
    "Note that this cell uses the `import_file_from_url()` function to load resources from cloud storage.\n",
    "This function is appropriate for Notebooks running on the same workstation as Cytoscape, but\n",
    "not for Notebooks running on a remote server. On a remote server, the Notebook's file system is not the same as the Cytoscape workstation's file system, and [Sandbox functions](https://py4cytoscape.readthedocs.io/en/latest/concepts.html#sandboxing) should be used instead."
   ]
  },
  {
   "cell_type": "code",
   "metadata": {
    "pycharm": {
     "name": "#%%\n"
    },
    "ExecuteTime": {
     "end_time": "2024-09-24T21:43:01.554619Z",
     "start_time": "2024-09-24T21:42:46.018636Z"
    }
   },
   "source": [
    "res_mitab = p4c.import_file_from_url(\"https://www.dropbox.com/s/8wc8o897tsxewt1/BIOGRID-ORGANISM-Saccharomyces_cerevisiae-3.2.105.mitab?dl=0\", \"BIOGRID-ORGANISM-Saccharomyces_cerevisiae-3.2.105.mitab\")\n",
    "print(f'Network file BIOGRID-ORGANISM-Saccharomyces_cerevisiae-3.2.105.mitab has {res_mitab[\"fileByteCount\"]} bytes')"
   ],
   "outputs": [
    {
     "name": "stdout",
     "output_type": "stream",
     "text": [
      "Network file BIOGRID-ORGANISM-Saccharomyces_cerevisiae-3.2.105.mitab has 166981992 bytes\n"
     ]
    }
   ],
   "execution_count": 16
  },
  {
   "cell_type": "markdown",
   "metadata": {
    "pycharm": {
     "name": "#%% md\n"
    }
   },
   "source": [
    "---\n",
    "# Load the Protein-protein Interaction Network into Cytoscape\n",
    "The network is contained in the s. cerevisiae MITAB file."
   ]
  },
  {
   "cell_type": "markdown",
   "metadata": {
    "pycharm": {
     "name": "#%% md\n"
    }
   },
   "source": [
    "Note that in this cell, the `import_network_from_file()` function (incorrectly) throws an exception in pre-3.10.0 Cytoscape. To ignore the exception, we enclose it in a try/except block.\n",
    "\n",
    "Note: Once the CYTOSCAPE-12772 issue is solved, we can remove the try/except block."
   ]
  },
  {
   "cell_type": "code",
   "metadata": {
    "pycharm": {
     "name": "#%%\n"
    },
    "ExecuteTime": {
     "end_time": "2024-09-24T21:43:58.811408Z",
     "start_time": "2024-09-24T21:43:01.620763Z"
    }
   },
   "source": [
    "from requests import HTTPError\n",
    "p4c.close_session(False)\n",
    "\n",
    "try:\n",
    "  p4c.import_network_from_file('BIOGRID-ORGANISM-Saccharomyces_cerevisiae-3.2.105.mitab')\n",
    "except:  \n",
    "  pass\n",
    "if p4c.get_network_count() != 1:\n",
    "  raise Exception('Failed to load network')\n",
    "net_suid = p4c.get_network_suid()\n",
    "print(f'Network identifier: {net_suid}')\n",
    "\n"
   ],
   "outputs": [
    {
     "name": "stdout",
     "output_type": "stream",
     "text": [
      "Network identifier: 17008665\n"
     ]
    }
   ],
   "execution_count": 17
  },
  {
   "cell_type": "markdown",
   "metadata": {
    "pycharm": {
     "name": "#%% md\n"
    }
   },
   "source": [
    "---\n",
    "# Import the gene expression data\n",
    "The expression data is downloaded and merged into the network's node attribute table."
   ]
  },
  {
   "cell_type": "markdown",
   "metadata": {
    "pycharm": {
     "name": "#%% md\n"
    }
   },
   "source": [
    "---\n",
    "*Tip:* This cell shows how to create code that works around changes in Cytoscape capabilities. \n",
    "\n",
    "In this case, starting with Cytoscape 3.9.0, the `load_table_data_from_file()` function works as expected, so the gene expression data is merged into the node attribute table. \n",
    "\n",
    "Prior to 3.9.0, `load_table_data_from_file()` didn't work. As a workaround, we do most of the work in Pandas and then import the dataframe into the node attribute table. After Pandas reads the CSV, we will try to match dataframe Gene ID column to the `name` column in the Cytoscape node attribute table. To do this, we must explicitly set the Gene ID as a string (even though it's originally parsed as a number) because Cytoscape's `name` column is already a string. \n",
    "\n",
    "Pro Tip: The wget and mv commands work on a Jupyter system on a Linux host. You may have to choose different commands for a Windows host. wget for Windows can be found [here](https://eternallybored.org/misc/wget/)."
   ]
  },
  {
   "cell_type": "code",
   "metadata": {
    "pycharm": {
     "name": "#%%\n"
    },
    "ExecuteTime": {
     "end_time": "2024-09-24T21:44:02.323986Z",
     "start_time": "2024-09-24T21:43:59.606761Z"
    }
   },
   "source": [
    "if p4c.check_supported_versions(cytoscape='3.9') is None:\n",
    "  # Load file directly into Sandbox so Cytoscape can import it\n",
    "  res_soft = p4c.import_file_from_url(\"https://www.dropbox.com/s/r15azh0xb53smu1/GDS112_full.soft?dl=0\", \"GDS112_full.soft\")\n",
    "  print(f'Annotation file GDS112_full.soft has {res_soft[\"fileByteCount\"]} bytes')\n",
    "\n",
    "  res = p4c.load_table_data_from_file('GDS112_full.soft', start_load_row=83, data_key_column_index=10, delimiters='\\t')\n",
    "  print(f'Load result contains table identifiers: {res[\"mappedTables\"]}')\n",
    "else:\n",
    "  # Load file into Notebook file system so Python can import it, tweak it, and download to Cytoscape\n",
    "  !wget -q --no-check-certificate https://www.dropbox.com/s/r15azh0xb53smu1/GDS112_full.soft?dl=0\n",
    "  !mv GDS112_full.soft?dl=0 GDS112_full.soft\n",
    "\n",
    "  import pandas as df\n",
    "  GDS112_full = df.read_csv('GDS112_full.soft', skiprows=82, sep='\\t')\n",
    "  GDS112_full.dropna(subset=['Gene ID'], inplace=True)\n",
    "  GDS112_full['Gene ID'] = df.to_numeric(GDS112_full['Gene ID'], downcast='integer')\n",
    "  GDS112_full = GDS112_full.astype({'Gene ID': 'string'})\n",
    "  print(GDS112_full.dtypes)\n",
    "  print(GDS112_full)\n",
    "  p4c.load_table_data(GDS112_full, data_key_column='Gene ID')\n",
    "\n",
    "  import os\n",
    "  os.remove('GDS112_full.soft')\n"
   ],
   "outputs": [
    {
     "name": "stdout",
     "output_type": "stream",
     "text": [
      "Annotation file GDS112_full.soft has 5536880 bytes\n",
      "Load result contains table identifiers: [17008636, 17008674]\n"
     ]
    }
   ],
   "execution_count": 18
  },
  {
   "cell_type": "markdown",
   "metadata": {
    "pycharm": {
     "name": "#%% md\n"
    }
   },
   "source": [
    "---\n",
    "# Filter the Network with the Genes that have Expression Data\n",
    "For this, we assume that if a node has no *Gene symbol*, it also has no expression data. \n",
    "\n",
    "The filter compares each node's *Gene symbol* attribute to a regular expression. If there is a match, the gene is selected; for no match, the gene isn't selected."
   ]
  },
  {
   "cell_type": "code",
   "metadata": {
    "pycharm": {
     "name": "#%%\n"
    },
    "ExecuteTime": {
     "end_time": "2024-09-24T21:44:03.598005Z",
     "start_time": "2024-09-24T21:44:02.343723Z"
    }
   },
   "source": [
    "res = p4c.create_column_filter('SymbolOK', 'Gene symbol', '[A-Z0-9]*', 'REGEX')\n",
    "print(f'Nodes selected: {len(res[\"nodes\"])}')"
   ],
   "outputs": [
    {
     "name": "stdout",
     "output_type": "stream",
     "text": [
      "No edges selected.\n",
      "Nodes selected: 5519\n"
     ]
    }
   ],
   "execution_count": 19
  },
  {
   "cell_type": "markdown",
   "metadata": {
    "pycharm": {
     "name": "#%% md\n"
    }
   },
   "source": [
    "---\n",
    "# Create a New Network with the Selected Subset\n",
    "Create a subnetwork containing only nodes selected by the filter (i.e., having a *Gene symbol* value, which implies that expression data is present for that node)."
   ]
  },
  {
   "cell_type": "markdown",
   "metadata": {
    "pycharm": {
     "name": "#%% md\n"
    }
   },
   "source": [
    "This could take several minutes.\n",
    "\n",
    "At the end, you should see a view containing all nodes laid out. "
   ]
  },
  {
   "cell_type": "markdown",
   "metadata": {
    "pycharm": {
     "name": "#%% md\n"
    }
   },
   "source": [
    "If you see only a single rectangle, it could be that your Cytoscape is set to operate with a small stack size. To increase the stack:\n",
    "\n",
    "1. terminate Cytoscape\n",
    "\n",
    "2. a) upgrade Cytoscape to 3.9.0 or later \n",
    "\n",
    "  ... or b) use a text editor to add -Xss5M to the cytoscape.vmoptions file in your Cytoscape program directory\n",
    "\n",
    "3. restart Cytoscape\n",
    "\n",
    "4. re-run this workflow"
   ]
  },
  {
   "cell_type": "code",
   "metadata": {
    "pycharm": {
     "name": "#%%\n"
    },
    "ExecuteTime": {
     "end_time": "2024-09-24T21:47:21.137046Z",
     "start_time": "2024-09-24T21:44:03.649850Z"
    }
   },
   "source": [
    "new_suid = p4c.create_subnetwork()\n",
    "print(f'New network identifier: {new_suid}')"
   ],
   "outputs": [
    {
     "name": "stdout",
     "output_type": "stream",
     "text": [
      "New network identifier: 18396562\n"
     ]
    }
   ],
   "execution_count": 20
  },
  {
   "cell_type": "markdown",
   "metadata": {
    "pycharm": {
     "name": "#%% md\n"
    }
   },
   "source": [
    "## Get rid of the original network, which isn't needed anymore"
   ]
  },
  {
   "cell_type": "code",
   "metadata": {
    "pycharm": {
     "name": "#%%\n"
    },
    "ExecuteTime": {
     "end_time": "2024-09-24T21:47:24.731714Z",
     "start_time": "2024-09-24T21:47:21.396939Z"
    }
   },
   "source": [
    "p4c.delete_network(net_suid)\n",
    "net_suid = new_suid"
   ],
   "outputs": [],
   "execution_count": 21
  },
  {
   "cell_type": "markdown",
   "metadata": {},
   "source": [
    "---\n",
    "# Identify Network Modules\n",
    "The overall strategy is to find clusters of nodes that share some common attribute. In this case, we use expression data values. Specifically:\n",
    "\n",
    "* Load Cytoscape's clusterMaker2 app\n",
    "* Use clusterMaker2 to create a dendogram showing a hierarchy of similar network modules"
   ]
  },
  {
   "cell_type": "markdown",
   "metadata": {
    "pycharm": {
     "name": "#%% md\n"
    }
   },
   "source": [
    "## Install clusterMaker2 if it hasn't already been installed"
   ]
  },
  {
   "cell_type": "code",
   "metadata": {
    "pycharm": {
     "name": "#%%\n"
    },
    "ExecuteTime": {
     "end_time": "2024-09-24T21:47:27.398934Z",
     "start_time": "2024-09-24T21:47:24.764878Z"
    }
   },
   "source": [
    "p4c.install_app('clusterMaker2')"
   ],
   "outputs": [
    {
     "name": "stdout",
     "output_type": "stream",
     "text": [
      "{}\n"
     ]
    },
    {
     "data": {
      "text/plain": [
       "{}"
      ]
     },
     "execution_count": 22,
     "metadata": {},
     "output_type": "execute_result"
    }
   ],
   "execution_count": 22
  },
  {
   "cell_type": "markdown",
   "metadata": {
    "pycharm": {
     "name": "#%% md\n"
    }
   },
   "source": [
    "## Identify network modules\n",
    "Create a hierarchic clustering of similar nodes based on the expression data columns. Cytoscape renders the hierarchy as a dendogram.\n",
    "\n",
    "*Tip:* Cytoscape's dendogram window can be used to manually explore module similarity. "
   ]
  },
  {
   "cell_type": "code",
   "metadata": {
    "pycharm": {
     "name": "#%%\n"
    },
    "ExecuteTime": {
     "end_time": "2024-09-24T21:48:00.563859Z",
     "start_time": "2024-09-24T21:47:27.486314Z"
    }
   },
   "source": [
    "dendo_clustering = p4c.commands_post('cluster hierarchical showUI=true clusterAttributes=false nodeAttributeList=\"GSM1029,GSM1030,GSM1032,GSM1033,GSM1034\"')\n",
    "\n",
    "# dendo_clustering is a dictionary [{nodeOrder: [{nodeName: xxx, suid: sss}, ...]}\n",
    "#                                   {nodeTree: [{name: ggg, left: lll, right: rrr}]}]\n",
    "# where nodeOrder is a mapping between a leaf node name xxx and the suid sss of a network node,\n",
    "# and nodeTree is a tree where the left node lll and right node rrr can be leaf nodes xxx or\n",
    "# internal nodes ggg. "
   ],
   "outputs": [],
   "execution_count": 23
  },
  {
   "cell_type": "markdown",
   "metadata": {
    "pycharm": {
     "name": "#%% md\n"
    }
   },
   "source": [
    "---\n",
    "# Perform an enrichment analysis using the gprofiler package"
   ]
  },
  {
   "cell_type": "markdown",
   "metadata": {
    "pycharm": {
     "name": "#%% md\n"
    }
   },
   "source": [
    "Use a package commonly available in PyPI to calculate functional enrichment for nodes similar to a node in which we may be interested. It's an example of how Cytoscape can work together with Python-based libraries to achieve a useful result.\n",
    "\n",
    "In this case, we choose HBT1 (entrez-gene ID 851303).\n",
    "\n",
    "1. Find SUID of network's HBT1 node\n",
    "\n",
    "1. Find a set of nodes similar to HBT1 by collecting nodes nearby in the tree\n",
    "\n",
    "1. Use each node's SUID to look up its entrez-gene ID\n",
    "\n",
    "1. Pass the set of entrez-gene IDs to gprofiler as an enrichment query"
   ]
  },
  {
   "cell_type": "markdown",
   "metadata": {},
   "source": [
    "## Find HBD1 in the similarity tree"
   ]
  },
  {
   "cell_type": "code",
   "metadata": {
    "ExecuteTime": {
     "end_time": "2024-09-24T21:48:01.194050Z",
     "start_time": "2024-09-24T21:48:00.602728Z"
    }
   },
   "source": [
    "node_suid = p4c.node_name_to_node_suid('851303')[0] # Use entrez-gene ID to get SUID for HBT1"
   ],
   "outputs": [
    {
     "name": "stderr",
     "output_type": "stream",
     "text": [
      "In _item_to_suid(): Invalid name in node name list: [851303]\n"
     ]
    },
    {
     "ename": "CyError",
     "evalue": "In _item_to_suid(): Invalid name in node name list: [851303]",
     "output_type": "error",
     "traceback": [
      "\u001B[1;31m---------------------------------------------------------------------------\u001B[0m",
      "\u001B[1;31mKeyError\u001B[0m                                  Traceback (most recent call last)",
      "File \u001B[1;32m~\\PycharmProjects\\py4cytoscape\\py4cytoscape\\py4cytoscape_utils.py:976\u001B[0m, in \u001B[0;36m_item_to_suid\u001B[1;34m(item_names, table_name, network, base_url, unique_list)\u001B[0m\n\u001B[0;32m    975\u001B[0m \u001B[38;5;28;01melse\u001B[39;00m:\n\u001B[1;32m--> 976\u001B[0m     suid_entry \u001B[38;5;241m=\u001B[39m \u001B[43mitem_name_to_suid_list\u001B[49m\u001B[43m[\u001B[49m\u001B[43mitem_name\u001B[49m\u001B[43m]\u001B[49m\n\u001B[0;32m    977\u001B[0m     suid_entry \u001B[38;5;241m=\u001B[39m suid_entry[\u001B[38;5;241m0\u001B[39m] \u001B[38;5;28;01mif\u001B[39;00m \u001B[38;5;28mlen\u001B[39m(suid_entry) \u001B[38;5;241m==\u001B[39m \u001B[38;5;241m1\u001B[39m \u001B[38;5;28;01melse\u001B[39;00m suid_entry \n",
      "\u001B[1;31mKeyError\u001B[0m: 851303",
      "\nDuring handling of the above exception, another exception occurred:\n",
      "\u001B[1;31mCyError\u001B[0m                                   Traceback (most recent call last)",
      "Cell \u001B[1;32mIn[24], line 1\u001B[0m\n\u001B[1;32m----> 1\u001B[0m node_suid \u001B[38;5;241m=\u001B[39m \u001B[43mp4c\u001B[49m\u001B[38;5;241;43m.\u001B[39;49m\u001B[43mnode_name_to_node_suid\u001B[49m\u001B[43m(\u001B[49m\u001B[38;5;124;43m'\u001B[39;49m\u001B[38;5;124;43m851303\u001B[39;49m\u001B[38;5;124;43m'\u001B[39;49m\u001B[43m)\u001B[49m[\u001B[38;5;241m0\u001B[39m] \u001B[38;5;66;03m# Use entrez-gene ID to get SUID for HBT1\u001B[39;00m\n",
      "File \u001B[1;32m~\\PycharmProjects\\py4cytoscape\\py4cytoscape\\py4cytoscape_utils.py:551\u001B[0m, in \u001B[0;36mnode_name_to_node_suid\u001B[1;34m(node_names, network, base_url, unique_list)\u001B[0m\n\u001B[0;32m    505\u001B[0m \u001B[38;5;28;01mdef\u001B[39;00m \u001B[38;5;21mnode_name_to_node_suid\u001B[39m(node_names, network\u001B[38;5;241m=\u001B[39m\u001B[38;5;28;01mNone\u001B[39;00m, base_url\u001B[38;5;241m=\u001B[39mDEFAULT_BASE_URL, \u001B[38;5;241m*\u001B[39m, unique_list\u001B[38;5;241m=\u001B[39m\u001B[38;5;28;01mFalse\u001B[39;00m):\n\u001B[0;32m    506\u001B[0m \u001B[38;5;250m    \u001B[39m\u001B[38;5;124;03m\"\"\"Translate one node name or a list of node names into a list of SUIDs.\u001B[39;00m\n\u001B[0;32m    507\u001B[0m \n\u001B[0;32m    508\u001B[0m \u001B[38;5;124;03m    List can contain either names or SUIDs. If the list contains all SUIDs and no names, the list\u001B[39;00m\n\u001B[1;32m   (...)\u001B[0m\n\u001B[0;32m    549\u001B[0m \u001B[38;5;124;03m        'node1, node\\\\\\\\,2' identifies 'node1' and 'node,2'.\u001B[39;00m\n\u001B[0;32m    550\u001B[0m \u001B[38;5;124;03m    \"\"\"\u001B[39;00m\n\u001B[1;32m--> 551\u001B[0m     \u001B[38;5;28;01mreturn\u001B[39;00m \u001B[43m_item_to_suid\u001B[49m\u001B[43m(\u001B[49m\u001B[43mnode_names\u001B[49m\u001B[43m,\u001B[49m\u001B[43m \u001B[49m\u001B[38;5;124;43m'\u001B[39;49m\u001B[38;5;124;43mnode\u001B[39;49m\u001B[38;5;124;43m'\u001B[39;49m\u001B[43m,\u001B[49m\u001B[43m \u001B[49m\u001B[43mnetwork\u001B[49m\u001B[38;5;241;43m=\u001B[39;49m\u001B[43mnetwork\u001B[49m\u001B[43m,\u001B[49m\u001B[43m \u001B[49m\u001B[43mbase_url\u001B[49m\u001B[38;5;241;43m=\u001B[39;49m\u001B[43mbase_url\u001B[49m\u001B[43m,\u001B[49m\u001B[43m \u001B[49m\u001B[43munique_list\u001B[49m\u001B[38;5;241;43m=\u001B[39;49m\u001B[43munique_list\u001B[49m\u001B[43m)\u001B[49m\n",
      "File \u001B[1;32m~\\PycharmProjects\\py4cytoscape\\py4cytoscape\\py4cytoscape_utils.py:981\u001B[0m, in \u001B[0;36m_item_to_suid\u001B[1;34m(item_names, table_name, network, base_url, unique_list)\u001B[0m\n\u001B[0;32m    979\u001B[0m         suid_list\u001B[38;5;241m.\u001B[39mappend(suid_entry)\n\u001B[0;32m    980\u001B[0m \u001B[38;5;28;01mexcept\u001B[39;00m:\n\u001B[1;32m--> 981\u001B[0m     \u001B[38;5;28;01mraise\u001B[39;00m CyError(\u001B[38;5;124mf\u001B[39m\u001B[38;5;124m'\u001B[39m\u001B[38;5;124mInvalid name in \u001B[39m\u001B[38;5;132;01m{\u001B[39;00mtable_name\u001B[38;5;132;01m}\u001B[39;00m\u001B[38;5;124m name list: \u001B[39m\u001B[38;5;132;01m{\u001B[39;00mitem_names\u001B[38;5;132;01m}\u001B[39;00m\u001B[38;5;124m'\u001B[39m)\n\u001B[0;32m    983\u001B[0m \u001B[38;5;28;01mreturn\u001B[39;00m suid_list\n",
      "\u001B[1;31mCyError\u001B[0m: In _item_to_suid(): Invalid name in node name list: [851303]"
     ]
    }
   ],
   "execution_count": 24
  },
  {
   "cell_type": "markdown",
   "metadata": {},
   "source": [
    "## Collect set of SUIDs representing 85 similar nodes\n",
    "\n",
    "Note that we use custom functions to parse and traverse the dendogram's similarity tree."
   ]
  },
  {
   "cell_type": "code",
   "execution_count": 13,
   "metadata": {},
   "outputs": [],
   "source": [
    "import parse_dendogram as pde # Use custom functions to decode dendogram tree\n",
    "\n",
    "node_order = dendo_clustering[0]['nodeOrder']\n",
    "node_tree = dendo_clustering[0]['nodeTree']\n",
    "\n",
    "node_bag = pde.create_node_bag(node_order, node_tree)\n",
    "similar_nodes = list(pde.find_node_set(node_suid, 85, node_order, node_bag))"
   ]
  },
  {
   "cell_type": "markdown",
   "metadata": {},
   "source": [
    "## Using SUIDs, query Cytoscape for each node's entrez-gene ID"
   ]
  },
  {
   "cell_type": "code",
   "execution_count": 14,
   "metadata": {},
   "outputs": [
    {
     "name": "stdout",
     "output_type": "stream",
     "text": [
      "[856512, 850295, 855363, 854742, 856832, 853377, 853766, 853357, 855878, 851303, 854125, 852902, 850322, 856013, 851541, 850425, 853677, 856616, 854086, 853288, 851487, 854845, 855029, 855789, 850608, 852123, 855737, 851631, 854206, 854098, 850412, 853405, 856543, 852231, 854297, 854247, 851902, 851649, 852695, 853613, 855593, 852436, 853217, 852874, 851596, 853573, 855229, 855738, 851254, 851070, 851063, 855669, 854898, 853537, 853159, 855020, 851380, 855513, 851433, 853326, 851474, 851239, 850963, 854302, 850687, 851581, 852691, 853758, 854357, 852146, 854822, 854459, 855562, 853115, 851625, 856855, 850500, 850778, 852342, 852543, 851582, 854108, 852721, 852818, 850597]\n"
     ]
    }
   ],
   "source": [
    "suid_to_entrez_gene = p4c.get_table_columns(columns='name')['name']\n",
    "entrez_gene_query = [int(suid_to_entrez_gene[suid])  for suid in similar_nodes]\n",
    "\n",
    "print(entrez_gene_query)"
   ]
  },
  {
   "cell_type": "markdown",
   "metadata": {},
   "source": [
    "## Install gprofiler package if it's not already installed"
   ]
  },
  {
   "cell_type": "code",
   "execution_count": 15,
   "metadata": {},
   "outputs": [
    {
     "name": "stdout",
     "output_type": "stream",
     "text": [
      "Requirement already satisfied: gprofiler-official in c:\\users\\cydeveloper\\pycharmprojects\\py4cytoscape\\venv\\lib\\site-packages (1.0.0)\n",
      "Requirement already satisfied: requests in c:\\users\\cydeveloper\\pycharmprojects\\py4cytoscape\\venv\\lib\\site-packages (from gprofiler-official) (2.27.1)\n",
      "Requirement already satisfied: idna<4,>=2.5 in c:\\users\\cydeveloper\\pycharmprojects\\py4cytoscape\\venv\\lib\\site-packages (from requests->gprofiler-official) (3.3)\n",
      "Requirement already satisfied: charset-normalizer~=2.0.0 in c:\\users\\cydeveloper\\pycharmprojects\\py4cytoscape\\venv\\lib\\site-packages (from requests->gprofiler-official) (2.0.12)\n",
      "Requirement already satisfied: urllib3<1.27,>=1.21.1 in c:\\users\\cydeveloper\\pycharmprojects\\py4cytoscape\\venv\\lib\\site-packages (from requests->gprofiler-official) (1.26.9)\n",
      "Requirement already satisfied: certifi>=2017.4.17 in c:\\users\\cydeveloper\\pycharmprojects\\py4cytoscape\\venv\\lib\\site-packages (from requests->gprofiler-official) (2021.10.8)\n"
     ]
    },
    {
     "name": "stderr",
     "output_type": "stream",
     "text": [
      "WARNING: You are using pip version 21.3.1; however, version 22.1.1 is available.\n",
      "You should consider upgrading via the 'C:\\Users\\CyDeveloper\\PycharmProjects\\py4cytoscape\\venv\\Scripts\\python.exe -m pip install --upgrade pip' command.\n"
     ]
    }
   ],
   "source": [
    "!pip install gprofiler-official\n",
    "from gprofiler import GProfiler"
   ]
  },
  {
   "cell_type": "markdown",
   "metadata": {},
   "source": [
    "## Use entrez-gene IDs to query gprofiler for GO functional enrichment"
   ]
  },
  {
   "cell_type": "code",
   "execution_count": 16,
   "metadata": {},
   "outputs": [
    {
     "data": {
      "text/html": [
       "<div>\n",
       "<style scoped>\n",
       "    .dataframe tbody tr th:only-of-type {\n",
       "        vertical-align: middle;\n",
       "    }\n",
       "\n",
       "    .dataframe tbody tr th {\n",
       "        vertical-align: top;\n",
       "    }\n",
       "\n",
       "    .dataframe thead th {\n",
       "        text-align: right;\n",
       "    }\n",
       "</style>\n",
       "<table border=\"1\" class=\"dataframe\">\n",
       "  <thead>\n",
       "    <tr style=\"text-align: right;\">\n",
       "      <th></th>\n",
       "      <th>source</th>\n",
       "      <th>native</th>\n",
       "      <th>name</th>\n",
       "      <th>p_value</th>\n",
       "      <th>significant</th>\n",
       "      <th>description</th>\n",
       "      <th>term_size</th>\n",
       "      <th>query_size</th>\n",
       "      <th>intersection_size</th>\n",
       "      <th>effective_domain_size</th>\n",
       "      <th>precision</th>\n",
       "      <th>recall</th>\n",
       "      <th>query</th>\n",
       "      <th>parents</th>\n",
       "    </tr>\n",
       "  </thead>\n",
       "  <tbody>\n",
       "    <tr>\n",
       "      <th>0</th>\n",
       "      <td>GO:BP</td>\n",
       "      <td>GO:0044281</td>\n",
       "      <td>small molecule metabolic process</td>\n",
       "      <td>1.439664e-07</td>\n",
       "      <td>True</td>\n",
       "      <td>\"The chemical reactions and pathways involving...</td>\n",
       "      <td>789</td>\n",
       "      <td>85</td>\n",
       "      <td>33</td>\n",
       "      <td>6548</td>\n",
       "      <td>0.388235</td>\n",
       "      <td>0.041825</td>\n",
       "      <td>query_1</td>\n",
       "      <td>[GO:0008152]</td>\n",
       "    </tr>\n",
       "    <tr>\n",
       "      <th>1</th>\n",
       "      <td>GO:BP</td>\n",
       "      <td>GO:0019752</td>\n",
       "      <td>carboxylic acid metabolic process</td>\n",
       "      <td>4.924810e-06</td>\n",
       "      <td>True</td>\n",
       "      <td>\"The chemical reactions and pathways involving...</td>\n",
       "      <td>413</td>\n",
       "      <td>85</td>\n",
       "      <td>22</td>\n",
       "      <td>6548</td>\n",
       "      <td>0.258824</td>\n",
       "      <td>0.053269</td>\n",
       "      <td>query_1</td>\n",
       "      <td>[GO:0043436]</td>\n",
       "    </tr>\n",
       "    <tr>\n",
       "      <th>2</th>\n",
       "      <td>GO:BP</td>\n",
       "      <td>GO:0043436</td>\n",
       "      <td>oxoacid metabolic process</td>\n",
       "      <td>1.081803e-05</td>\n",
       "      <td>True</td>\n",
       "      <td>\"The chemical reactions and pathways involving...</td>\n",
       "      <td>431</td>\n",
       "      <td>85</td>\n",
       "      <td>22</td>\n",
       "      <td>6548</td>\n",
       "      <td>0.258824</td>\n",
       "      <td>0.051044</td>\n",
       "      <td>query_1</td>\n",
       "      <td>[GO:0006082]</td>\n",
       "    </tr>\n",
       "    <tr>\n",
       "      <th>3</th>\n",
       "      <td>GO:BP</td>\n",
       "      <td>GO:0006082</td>\n",
       "      <td>organic acid metabolic process</td>\n",
       "      <td>1.281259e-05</td>\n",
       "      <td>True</td>\n",
       "      <td>\"The chemical reactions and pathways involving...</td>\n",
       "      <td>435</td>\n",
       "      <td>85</td>\n",
       "      <td>22</td>\n",
       "      <td>6548</td>\n",
       "      <td>0.258824</td>\n",
       "      <td>0.050575</td>\n",
       "      <td>query_1</td>\n",
       "      <td>[GO:0044237, GO:0044281, GO:0071704]</td>\n",
       "    </tr>\n",
       "    <tr>\n",
       "      <th>4</th>\n",
       "      <td>GO:BP</td>\n",
       "      <td>GO:0044282</td>\n",
       "      <td>small molecule catabolic process</td>\n",
       "      <td>1.018934e-04</td>\n",
       "      <td>True</td>\n",
       "      <td>\"The chemical reactions and pathways resulting...</td>\n",
       "      <td>164</td>\n",
       "      <td>85</td>\n",
       "      <td>13</td>\n",
       "      <td>6548</td>\n",
       "      <td>0.152941</td>\n",
       "      <td>0.079268</td>\n",
       "      <td>query_1</td>\n",
       "      <td>[GO:0009056, GO:0044281]</td>\n",
       "    </tr>\n",
       "    <tr>\n",
       "      <th>5</th>\n",
       "      <td>GO:MF</td>\n",
       "      <td>GO:0003824</td>\n",
       "      <td>catalytic activity</td>\n",
       "      <td>1.680909e-04</td>\n",
       "      <td>True</td>\n",
       "      <td>\"Catalysis of a biochemical reaction at physio...</td>\n",
       "      <td>2317</td>\n",
       "      <td>84</td>\n",
       "      <td>52</td>\n",
       "      <td>6557</td>\n",
       "      <td>0.619048</td>\n",
       "      <td>0.022443</td>\n",
       "      <td>query_1</td>\n",
       "      <td>[GO:0003674]</td>\n",
       "    </tr>\n",
       "    <tr>\n",
       "      <th>6</th>\n",
       "      <td>GO:BP</td>\n",
       "      <td>GO:0046395</td>\n",
       "      <td>carboxylic acid catabolic process</td>\n",
       "      <td>4.046858e-04</td>\n",
       "      <td>True</td>\n",
       "      <td>\"The chemical reactions and pathways resulting...</td>\n",
       "      <td>101</td>\n",
       "      <td>85</td>\n",
       "      <td>10</td>\n",
       "      <td>6548</td>\n",
       "      <td>0.117647</td>\n",
       "      <td>0.099010</td>\n",
       "      <td>query_1</td>\n",
       "      <td>[GO:0016054, GO:0019752]</td>\n",
       "    </tr>\n",
       "    <tr>\n",
       "      <th>7</th>\n",
       "      <td>GO:BP</td>\n",
       "      <td>GO:0016054</td>\n",
       "      <td>organic acid catabolic process</td>\n",
       "      <td>4.865659e-04</td>\n",
       "      <td>True</td>\n",
       "      <td>\"The chemical reactions and pathways resulting...</td>\n",
       "      <td>103</td>\n",
       "      <td>85</td>\n",
       "      <td>10</td>\n",
       "      <td>6548</td>\n",
       "      <td>0.117647</td>\n",
       "      <td>0.097087</td>\n",
       "      <td>query_1</td>\n",
       "      <td>[GO:0006082, GO:0044248, GO:0044282, GO:1901575]</td>\n",
       "    </tr>\n",
       "    <tr>\n",
       "      <th>8</th>\n",
       "      <td>GO:CC</td>\n",
       "      <td>GO:0005576</td>\n",
       "      <td>extracellular region</td>\n",
       "      <td>6.964628e-04</td>\n",
       "      <td>True</td>\n",
       "      <td>\"The space external to the outermost structure...</td>\n",
       "      <td>127</td>\n",
       "      <td>84</td>\n",
       "      <td>10</td>\n",
       "      <td>6569</td>\n",
       "      <td>0.119048</td>\n",
       "      <td>0.078740</td>\n",
       "      <td>query_1</td>\n",
       "      <td>[GO:0110165]</td>\n",
       "    </tr>\n",
       "    <tr>\n",
       "      <th>9</th>\n",
       "      <td>KEGG</td>\n",
       "      <td>KEGG:01200</td>\n",
       "      <td>Carbon metabolism</td>\n",
       "      <td>7.192714e-04</td>\n",
       "      <td>True</td>\n",
       "      <td>Carbon metabolism</td>\n",
       "      <td>112</td>\n",
       "      <td>40</td>\n",
       "      <td>10</td>\n",
       "      <td>2085</td>\n",
       "      <td>0.250000</td>\n",
       "      <td>0.089286</td>\n",
       "      <td>query_1</td>\n",
       "      <td>[KEGG:00000]</td>\n",
       "    </tr>\n",
       "    <tr>\n",
       "      <th>10</th>\n",
       "      <td>GO:BP</td>\n",
       "      <td>GO:1901605</td>\n",
       "      <td>alpha-amino acid metabolic process</td>\n",
       "      <td>2.729287e-03</td>\n",
       "      <td>True</td>\n",
       "      <td>\"The chemical reactions and pathways involving...</td>\n",
       "      <td>185</td>\n",
       "      <td>85</td>\n",
       "      <td>12</td>\n",
       "      <td>6548</td>\n",
       "      <td>0.141176</td>\n",
       "      <td>0.064865</td>\n",
       "      <td>query_1</td>\n",
       "      <td>[GO:0006520]</td>\n",
       "    </tr>\n",
       "    <tr>\n",
       "      <th>11</th>\n",
       "      <td>GO:BP</td>\n",
       "      <td>GO:0006520</td>\n",
       "      <td>cellular amino acid metabolic process</td>\n",
       "      <td>2.862683e-03</td>\n",
       "      <td>True</td>\n",
       "      <td>\"The chemical reactions and pathways involving...</td>\n",
       "      <td>255</td>\n",
       "      <td>85</td>\n",
       "      <td>14</td>\n",
       "      <td>6548</td>\n",
       "      <td>0.164706</td>\n",
       "      <td>0.054902</td>\n",
       "      <td>query_1</td>\n",
       "      <td>[GO:0019752, GO:0044238, GO:1901564]</td>\n",
       "    </tr>\n",
       "    <tr>\n",
       "      <th>12</th>\n",
       "      <td>GO:BP</td>\n",
       "      <td>GO:1901575</td>\n",
       "      <td>organic substance catabolic process</td>\n",
       "      <td>2.910799e-03</td>\n",
       "      <td>True</td>\n",
       "      <td>\"The chemical reactions and pathways resulting...</td>\n",
       "      <td>792</td>\n",
       "      <td>85</td>\n",
       "      <td>26</td>\n",
       "      <td>6548</td>\n",
       "      <td>0.305882</td>\n",
       "      <td>0.032828</td>\n",
       "      <td>query_1</td>\n",
       "      <td>[GO:0009056, GO:0071704]</td>\n",
       "    </tr>\n",
       "    <tr>\n",
       "      <th>13</th>\n",
       "      <td>GO:BP</td>\n",
       "      <td>GO:0009056</td>\n",
       "      <td>catabolic process</td>\n",
       "      <td>2.926024e-03</td>\n",
       "      <td>True</td>\n",
       "      <td>\"The chemical reactions and pathways resulting...</td>\n",
       "      <td>1006</td>\n",
       "      <td>85</td>\n",
       "      <td>30</td>\n",
       "      <td>6548</td>\n",
       "      <td>0.352941</td>\n",
       "      <td>0.029821</td>\n",
       "      <td>query_1</td>\n",
       "      <td>[GO:0008152]</td>\n",
       "    </tr>\n",
       "    <tr>\n",
       "      <th>14</th>\n",
       "      <td>KEGG</td>\n",
       "      <td>KEGG:00260</td>\n",
       "      <td>Glycine, serine and threonine metabolism</td>\n",
       "      <td>4.990109e-03</td>\n",
       "      <td>True</td>\n",
       "      <td>Glycine, serine and threonine metabolism</td>\n",
       "      <td>30</td>\n",
       "      <td>40</td>\n",
       "      <td>5</td>\n",
       "      <td>2085</td>\n",
       "      <td>0.125000</td>\n",
       "      <td>0.166667</td>\n",
       "      <td>query_1</td>\n",
       "      <td>[KEGG:00000]</td>\n",
       "    </tr>\n",
       "    <tr>\n",
       "      <th>15</th>\n",
       "      <td>GO:CC</td>\n",
       "      <td>GO:0005737</td>\n",
       "      <td>cytoplasm</td>\n",
       "      <td>5.675376e-03</td>\n",
       "      <td>True</td>\n",
       "      <td>\"The contents of a cell excluding the plasma m...</td>\n",
       "      <td>4431</td>\n",
       "      <td>84</td>\n",
       "      <td>73</td>\n",
       "      <td>6569</td>\n",
       "      <td>0.869048</td>\n",
       "      <td>0.016475</td>\n",
       "      <td>query_1</td>\n",
       "      <td>[GO:0005622, GO:0110165]</td>\n",
       "    </tr>\n",
       "    <tr>\n",
       "      <th>16</th>\n",
       "      <td>GO:CC</td>\n",
       "      <td>GO:0005622</td>\n",
       "      <td>intracellular anatomical structure</td>\n",
       "      <td>6.184976e-03</td>\n",
       "      <td>True</td>\n",
       "      <td>\"A component of a cell contained within (but n...</td>\n",
       "      <td>5215</td>\n",
       "      <td>84</td>\n",
       "      <td>80</td>\n",
       "      <td>6569</td>\n",
       "      <td>0.952381</td>\n",
       "      <td>0.015340</td>\n",
       "      <td>query_1</td>\n",
       "      <td>[GO:0110165]</td>\n",
       "    </tr>\n",
       "    <tr>\n",
       "      <th>17</th>\n",
       "      <td>GO:BP</td>\n",
       "      <td>GO:1901565</td>\n",
       "      <td>organonitrogen compound catabolic process</td>\n",
       "      <td>6.889923e-03</td>\n",
       "      <td>True</td>\n",
       "      <td>\"The chemical reactions and pathways resulting...</td>\n",
       "      <td>440</td>\n",
       "      <td>85</td>\n",
       "      <td>18</td>\n",
       "      <td>6548</td>\n",
       "      <td>0.211765</td>\n",
       "      <td>0.040909</td>\n",
       "      <td>query_1</td>\n",
       "      <td>[GO:1901564, GO:1901575]</td>\n",
       "    </tr>\n",
       "    <tr>\n",
       "      <th>18</th>\n",
       "      <td>GO:BP</td>\n",
       "      <td>GO:0044283</td>\n",
       "      <td>small molecule biosynthetic process</td>\n",
       "      <td>7.249996e-03</td>\n",
       "      <td>True</td>\n",
       "      <td>\"The chemical reactions and pathways resulting...</td>\n",
       "      <td>356</td>\n",
       "      <td>85</td>\n",
       "      <td>16</td>\n",
       "      <td>6548</td>\n",
       "      <td>0.188235</td>\n",
       "      <td>0.044944</td>\n",
       "      <td>query_1</td>\n",
       "      <td>[GO:0009058, GO:0044281]</td>\n",
       "    </tr>\n",
       "    <tr>\n",
       "      <th>19</th>\n",
       "      <td>GO:BP</td>\n",
       "      <td>GO:0009063</td>\n",
       "      <td>cellular amino acid catabolic process</td>\n",
       "      <td>8.319257e-03</td>\n",
       "      <td>True</td>\n",
       "      <td>\"The chemical reactions and pathways resulting...</td>\n",
       "      <td>61</td>\n",
       "      <td>85</td>\n",
       "      <td>7</td>\n",
       "      <td>6548</td>\n",
       "      <td>0.082353</td>\n",
       "      <td>0.114754</td>\n",
       "      <td>query_1</td>\n",
       "      <td>[GO:0006520, GO:0046395, GO:1901565]</td>\n",
       "    </tr>\n",
       "    <tr>\n",
       "      <th>20</th>\n",
       "      <td>KEGG</td>\n",
       "      <td>KEGG:01100</td>\n",
       "      <td>Metabolic pathways</td>\n",
       "      <td>1.047239e-02</td>\n",
       "      <td>True</td>\n",
       "      <td>Metabolic pathways</td>\n",
       "      <td>791</td>\n",
       "      <td>40</td>\n",
       "      <td>26</td>\n",
       "      <td>2085</td>\n",
       "      <td>0.650000</td>\n",
       "      <td>0.032870</td>\n",
       "      <td>query_1</td>\n",
       "      <td>[KEGG:00000]</td>\n",
       "    </tr>\n",
       "    <tr>\n",
       "      <th>21</th>\n",
       "      <td>GO:MF</td>\n",
       "      <td>GO:0019842</td>\n",
       "      <td>vitamin binding</td>\n",
       "      <td>1.987647e-02</td>\n",
       "      <td>True</td>\n",
       "      <td>\"Binding to a vitamin, one of a number of unre...</td>\n",
       "      <td>55</td>\n",
       "      <td>84</td>\n",
       "      <td>6</td>\n",
       "      <td>6557</td>\n",
       "      <td>0.071429</td>\n",
       "      <td>0.109091</td>\n",
       "      <td>query_1</td>\n",
       "      <td>[GO:0036094]</td>\n",
       "    </tr>\n",
       "    <tr>\n",
       "      <th>22</th>\n",
       "      <td>GO:BP</td>\n",
       "      <td>GO:0044248</td>\n",
       "      <td>cellular catabolic process</td>\n",
       "      <td>2.951627e-02</td>\n",
       "      <td>True</td>\n",
       "      <td>\"The chemical reactions and pathways resulting...</td>\n",
       "      <td>900</td>\n",
       "      <td>85</td>\n",
       "      <td>26</td>\n",
       "      <td>6548</td>\n",
       "      <td>0.305882</td>\n",
       "      <td>0.028889</td>\n",
       "      <td>query_1</td>\n",
       "      <td>[GO:0009056, GO:0044237]</td>\n",
       "    </tr>\n",
       "    <tr>\n",
       "      <th>23</th>\n",
       "      <td>GO:MF</td>\n",
       "      <td>GO:0030170</td>\n",
       "      <td>pyridoxal phosphate binding</td>\n",
       "      <td>4.897296e-02</td>\n",
       "      <td>True</td>\n",
       "      <td>\"Binding to pyridoxal 5' phosphate, 3-hydroxy-...</td>\n",
       "      <td>41</td>\n",
       "      <td>84</td>\n",
       "      <td>5</td>\n",
       "      <td>6557</td>\n",
       "      <td>0.059524</td>\n",
       "      <td>0.121951</td>\n",
       "      <td>query_1</td>\n",
       "      <td>[GO:0043168, GO:0070279]</td>\n",
       "    </tr>\n",
       "    <tr>\n",
       "      <th>24</th>\n",
       "      <td>GO:MF</td>\n",
       "      <td>GO:0070279</td>\n",
       "      <td>vitamin B6 binding</td>\n",
       "      <td>4.897296e-02</td>\n",
       "      <td>True</td>\n",
       "      <td>\"Binding to a vitamin B6 compound: pyridoxal, ...</td>\n",
       "      <td>41</td>\n",
       "      <td>84</td>\n",
       "      <td>5</td>\n",
       "      <td>6557</td>\n",
       "      <td>0.059524</td>\n",
       "      <td>0.121951</td>\n",
       "      <td>query_1</td>\n",
       "      <td>[GO:0019842, GO:0097159, GO:1901363]</td>\n",
       "    </tr>\n",
       "    <tr>\n",
       "      <th>25</th>\n",
       "      <td>KEGG</td>\n",
       "      <td>KEGG:01230</td>\n",
       "      <td>Biosynthesis of amino acids</td>\n",
       "      <td>4.989699e-02</td>\n",
       "      <td>True</td>\n",
       "      <td>Biosynthesis of amino acids</td>\n",
       "      <td>125</td>\n",
       "      <td>40</td>\n",
       "      <td>8</td>\n",
       "      <td>2085</td>\n",
       "      <td>0.200000</td>\n",
       "      <td>0.064000</td>\n",
       "      <td>query_1</td>\n",
       "      <td>[KEGG:00000]</td>\n",
       "    </tr>\n",
       "  </tbody>\n",
       "</table>\n",
       "</div>"
      ],
      "text/plain": [
       "   source      native                                       name  \\\n",
       "0   GO:BP  GO:0044281           small molecule metabolic process   \n",
       "1   GO:BP  GO:0019752          carboxylic acid metabolic process   \n",
       "2   GO:BP  GO:0043436                  oxoacid metabolic process   \n",
       "3   GO:BP  GO:0006082             organic acid metabolic process   \n",
       "4   GO:BP  GO:0044282           small molecule catabolic process   \n",
       "5   GO:MF  GO:0003824                         catalytic activity   \n",
       "6   GO:BP  GO:0046395          carboxylic acid catabolic process   \n",
       "7   GO:BP  GO:0016054             organic acid catabolic process   \n",
       "8   GO:CC  GO:0005576                       extracellular region   \n",
       "9    KEGG  KEGG:01200                          Carbon metabolism   \n",
       "10  GO:BP  GO:1901605         alpha-amino acid metabolic process   \n",
       "11  GO:BP  GO:0006520      cellular amino acid metabolic process   \n",
       "12  GO:BP  GO:1901575        organic substance catabolic process   \n",
       "13  GO:BP  GO:0009056                          catabolic process   \n",
       "14   KEGG  KEGG:00260   Glycine, serine and threonine metabolism   \n",
       "15  GO:CC  GO:0005737                                  cytoplasm   \n",
       "16  GO:CC  GO:0005622         intracellular anatomical structure   \n",
       "17  GO:BP  GO:1901565  organonitrogen compound catabolic process   \n",
       "18  GO:BP  GO:0044283        small molecule biosynthetic process   \n",
       "19  GO:BP  GO:0009063      cellular amino acid catabolic process   \n",
       "20   KEGG  KEGG:01100                         Metabolic pathways   \n",
       "21  GO:MF  GO:0019842                            vitamin binding   \n",
       "22  GO:BP  GO:0044248                 cellular catabolic process   \n",
       "23  GO:MF  GO:0030170                pyridoxal phosphate binding   \n",
       "24  GO:MF  GO:0070279                         vitamin B6 binding   \n",
       "25   KEGG  KEGG:01230                Biosynthesis of amino acids   \n",
       "\n",
       "         p_value  significant  \\\n",
       "0   1.439664e-07         True   \n",
       "1   4.924810e-06         True   \n",
       "2   1.081803e-05         True   \n",
       "3   1.281259e-05         True   \n",
       "4   1.018934e-04         True   \n",
       "5   1.680909e-04         True   \n",
       "6   4.046858e-04         True   \n",
       "7   4.865659e-04         True   \n",
       "8   6.964628e-04         True   \n",
       "9   7.192714e-04         True   \n",
       "10  2.729287e-03         True   \n",
       "11  2.862683e-03         True   \n",
       "12  2.910799e-03         True   \n",
       "13  2.926024e-03         True   \n",
       "14  4.990109e-03         True   \n",
       "15  5.675376e-03         True   \n",
       "16  6.184976e-03         True   \n",
       "17  6.889923e-03         True   \n",
       "18  7.249996e-03         True   \n",
       "19  8.319257e-03         True   \n",
       "20  1.047239e-02         True   \n",
       "21  1.987647e-02         True   \n",
       "22  2.951627e-02         True   \n",
       "23  4.897296e-02         True   \n",
       "24  4.897296e-02         True   \n",
       "25  4.989699e-02         True   \n",
       "\n",
       "                                          description  term_size  query_size  \\\n",
       "0   \"The chemical reactions and pathways involving...        789          85   \n",
       "1   \"The chemical reactions and pathways involving...        413          85   \n",
       "2   \"The chemical reactions and pathways involving...        431          85   \n",
       "3   \"The chemical reactions and pathways involving...        435          85   \n",
       "4   \"The chemical reactions and pathways resulting...        164          85   \n",
       "5   \"Catalysis of a biochemical reaction at physio...       2317          84   \n",
       "6   \"The chemical reactions and pathways resulting...        101          85   \n",
       "7   \"The chemical reactions and pathways resulting...        103          85   \n",
       "8   \"The space external to the outermost structure...        127          84   \n",
       "9                                   Carbon metabolism        112          40   \n",
       "10  \"The chemical reactions and pathways involving...        185          85   \n",
       "11  \"The chemical reactions and pathways involving...        255          85   \n",
       "12  \"The chemical reactions and pathways resulting...        792          85   \n",
       "13  \"The chemical reactions and pathways resulting...       1006          85   \n",
       "14           Glycine, serine and threonine metabolism         30          40   \n",
       "15  \"The contents of a cell excluding the plasma m...       4431          84   \n",
       "16  \"A component of a cell contained within (but n...       5215          84   \n",
       "17  \"The chemical reactions and pathways resulting...        440          85   \n",
       "18  \"The chemical reactions and pathways resulting...        356          85   \n",
       "19  \"The chemical reactions and pathways resulting...         61          85   \n",
       "20                                 Metabolic pathways        791          40   \n",
       "21  \"Binding to a vitamin, one of a number of unre...         55          84   \n",
       "22  \"The chemical reactions and pathways resulting...        900          85   \n",
       "23  \"Binding to pyridoxal 5' phosphate, 3-hydroxy-...         41          84   \n",
       "24  \"Binding to a vitamin B6 compound: pyridoxal, ...         41          84   \n",
       "25                        Biosynthesis of amino acids        125          40   \n",
       "\n",
       "    intersection_size  effective_domain_size  precision    recall    query  \\\n",
       "0                  33                   6548   0.388235  0.041825  query_1   \n",
       "1                  22                   6548   0.258824  0.053269  query_1   \n",
       "2                  22                   6548   0.258824  0.051044  query_1   \n",
       "3                  22                   6548   0.258824  0.050575  query_1   \n",
       "4                  13                   6548   0.152941  0.079268  query_1   \n",
       "5                  52                   6557   0.619048  0.022443  query_1   \n",
       "6                  10                   6548   0.117647  0.099010  query_1   \n",
       "7                  10                   6548   0.117647  0.097087  query_1   \n",
       "8                  10                   6569   0.119048  0.078740  query_1   \n",
       "9                  10                   2085   0.250000  0.089286  query_1   \n",
       "10                 12                   6548   0.141176  0.064865  query_1   \n",
       "11                 14                   6548   0.164706  0.054902  query_1   \n",
       "12                 26                   6548   0.305882  0.032828  query_1   \n",
       "13                 30                   6548   0.352941  0.029821  query_1   \n",
       "14                  5                   2085   0.125000  0.166667  query_1   \n",
       "15                 73                   6569   0.869048  0.016475  query_1   \n",
       "16                 80                   6569   0.952381  0.015340  query_1   \n",
       "17                 18                   6548   0.211765  0.040909  query_1   \n",
       "18                 16                   6548   0.188235  0.044944  query_1   \n",
       "19                  7                   6548   0.082353  0.114754  query_1   \n",
       "20                 26                   2085   0.650000  0.032870  query_1   \n",
       "21                  6                   6557   0.071429  0.109091  query_1   \n",
       "22                 26                   6548   0.305882  0.028889  query_1   \n",
       "23                  5                   6557   0.059524  0.121951  query_1   \n",
       "24                  5                   6557   0.059524  0.121951  query_1   \n",
       "25                  8                   2085   0.200000  0.064000  query_1   \n",
       "\n",
       "                                             parents  \n",
       "0                                       [GO:0008152]  \n",
       "1                                       [GO:0043436]  \n",
       "2                                       [GO:0006082]  \n",
       "3               [GO:0044237, GO:0044281, GO:0071704]  \n",
       "4                           [GO:0009056, GO:0044281]  \n",
       "5                                       [GO:0003674]  \n",
       "6                           [GO:0016054, GO:0019752]  \n",
       "7   [GO:0006082, GO:0044248, GO:0044282, GO:1901575]  \n",
       "8                                       [GO:0110165]  \n",
       "9                                       [KEGG:00000]  \n",
       "10                                      [GO:0006520]  \n",
       "11              [GO:0019752, GO:0044238, GO:1901564]  \n",
       "12                          [GO:0009056, GO:0071704]  \n",
       "13                                      [GO:0008152]  \n",
       "14                                      [KEGG:00000]  \n",
       "15                          [GO:0005622, GO:0110165]  \n",
       "16                                      [GO:0110165]  \n",
       "17                          [GO:1901564, GO:1901575]  \n",
       "18                          [GO:0009058, GO:0044281]  \n",
       "19              [GO:0006520, GO:0046395, GO:1901565]  \n",
       "20                                      [KEGG:00000]  \n",
       "21                                      [GO:0036094]  \n",
       "22                          [GO:0009056, GO:0044237]  \n",
       "23                          [GO:0043168, GO:0070279]  \n",
       "24              [GO:0019842, GO:0097159, GO:1901363]  \n",
       "25                                      [KEGG:00000]  "
      ]
     },
     "execution_count": 16,
     "metadata": {},
     "output_type": "execute_result"
    }
   ],
   "source": [
    "gp = GProfiler(user_agent='py4cytoscape', return_dataframe=True)\n",
    "gp.profile(organism='scerevisiae', query=entrez_gene_query)"
   ]
  }
 ],
 "metadata": {
  "kernelspec": {
   "display_name": "Python 3 (ipykernel)",
   "language": "python",
   "name": "python3"
  },
  "language_info": {
   "codemirror_mode": {
    "name": "ipython",
    "version": 3
   },
   "file_extension": ".py",
   "mimetype": "text/x-python",
   "name": "python",
   "nbconvert_exporter": "python",
   "pygments_lexer": "ipython3",
   "version": "3.10.4"
  }
 },
 "nbformat": 4,
 "nbformat_minor": 1
}
