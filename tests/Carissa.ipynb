{
 "cells": [
  {
   "cell_type": "code",
   "id": "65b2602b68b58360",
   "metadata": {
    "ExecuteTime": {
     "end_time": "2025-02-27T22:10:15.140810Z",
     "start_time": "2025-02-27T22:10:15.078676Z"
    }
   },
   "source": [
    "import networkx as nx\n",
    "import py4cytoscape as p4c\n",
    "\n",
    "p4c.cytoscape_ping()\n",
    "p4c.cytoscape_version_info()\n",
    "\n",
    "g = nx.Graph([(1, 2), (3, 4), (1, 4)])"
   ],
   "outputs": [
    {
     "name": "stdout",
     "output_type": "stream",
     "text": [
      "You are connected to Cytoscape!\n"
     ]
    }
   ],
   "execution_count": 2
  },
  {
   "metadata": {
    "id": "899e05e2-465f-4cd2-b566-06369c67fee0",
    "ExecuteTime": {
     "end_time": "2025-02-27T22:14:25.034968Z",
     "start_time": "2025-02-27T22:14:21.982551Z"
    }
   },
   "cell_type": "code",
   "source": [
    "p4c.close_session(False)\n",
    "\n",
    "for i, url in enumerate([\n",
    "            \n",
    "    # GUI (Image Manager - Image URL) - yes, py4cytoscape - yes\n",
    "    #\"https://www.ucsd.edu/_resources/img/logo_UCSD.png\",\n",
    "    \n",
    "    # # GUI (Image Manager - Image URL) - yes, py4cytoscape - no\n",
    "    # \"C:\\\\Users\\\\CyDeveloper\\\\PycharmProjects\\\\py4cytoscape\\\\tests\\\\Temp\\\\logo_UCSD.jpg\",\n",
    "    \"C:/Users/CyDeveloper/PycharmProjects/py4cytoscape/tests/Temp/logo_UCSD.jpg\",\n",
    "    \n",
    "    # # GUI (Image Manager - Image URL) - yes, py4cytoscape - no\n",
    "    # \"C:\\\\Users\\\\CyDeveloper\\\\PycharmProjects\\\\py4cytoscape\\\\tests\\\\Temp\\\\logo_UCSD.png\",\n",
    "    # \n",
    "    # # GUI (Image Manager - Image URL) - yes, py4cytoscape - no    \n",
    "    # \"file:/home/cbleker/test/logo_UCSD.png\",\n",
    "    # \n",
    "    # # GUI (Image Manager - Image URL) - yes, py4cytoscape - no    \n",
    "    # \"file://home/cbleker/test/logo_UCSD.png\",\n",
    "    # \n",
    "    # # GUI (Image Manager - Image URL) - no, py4cytoscape - no\n",
    "    # \"file:///home/cbleker/test/logo_UCSD.png\",\n",
    "    # \n",
    "    # # GUI (Image Manager - Image URL) - NA, py4cytoscape - no\n",
    "    # \"file:logo_UCSD.png\",\n",
    "    #     \n",
    "    # # GUI (Image Manager - Image URL) - NA, py4cytoscape - no\n",
    "    # \"file:./logo_UCSD.png\",\n",
    "    #     \n",
    "    # # GUI (Image Manager - Image URL) - NA, py4cytoscape - no\n",
    "    # \"logo_UCSD.png\",\n",
    "    #     \n",
    "    # # GUI (Image Manager - Image URL) - NA, py4cytoscape - no\n",
    "    # \"./logo_UCSD.png\",\n",
    "\n",
    "]):\n",
    "    print('creating network for ' + url)\n",
    "    network = network = p4c.create_network_from_networkx(g, title=f\"test {i} - {url}\")\n",
    "    print('creating annotation for ' + url)\n",
    "    r = p4c.add_annotation_image(url=url,  network=network)\n",
    "    print('done creating annotation for ' + url)\n",
    "    print(\"\\t\" + \"\\n\\t\".join(f\"{k}\\t{v}\" for k, v in r.items()))\n",
    "    print(\"---\")\n"
   ],
   "id": "899e05e2-465f-4cd2-b566-06369c67fee0",
   "outputs": [
    {
     "name": "stdout",
     "output_type": "stream",
     "text": [
      "creating network for C:/Users/CyDeveloper/PycharmProjects/py4cytoscape/tests/Temp/logo_UCSD.jpg\n",
      "Applying default style...\n",
      "Applying preferred layout\n",
      "creating annotation for C:/Users/CyDeveloper/PycharmProjects/py4cytoscape/tests/Temp/logo_UCSD.jpg\n",
      "done creating annotation for C:/Users/CyDeveloper/PycharmProjects/py4cytoscape/tests/Temp/logo_UCSD.jpg\n",
      "\tedgeThickness\t1.0\n",
      "\tcanvas\tforeground\n",
      "\trotation\t0.0\n",
      "\ttype\torg.cytoscape.view.presentation.annotations.ImageAnnotation\n",
      "\tuuid\t08888945-c0c9-4e1a-aa11-cb7fabbee124\n",
      "\tURL\tfile:C:/Users/CyDeveloper/PycharmProjects/py4cytoscape/tests/Temp/logo_UCSD.jpg\n",
      "\tshapeType\tRECTANGLE\n",
      "\tedgeColor\t#000000\n",
      "\tbrightness\t0\n",
      "\tedgeOpacity\t100.0\n",
      "\tcontrast\t0\n",
      "\tname\tImage 1\n",
      "\tx\t3.2522088289260864\n",
      "\twidth\t500.0\n",
      "\ty\t2.0134578943252563\n",
      "\tz\t0\n",
      "\topacity\t1.0\n",
      "\theight\t100.0\n",
      "---\n"
     ]
    }
   ],
   "execution_count": 5
  },
  {
   "metadata": {},
   "cell_type": "code",
   "outputs": [],
   "execution_count": null,
   "source": "",
   "id": "e6aa20860c440e3f"
  }
 ],
 "metadata": {
  "kernelspec": {
   "display_name": "Python 3 (ipykernel)",
   "language": "python",
   "name": "python3"
  },
  "language_info": {
   "codemirror_mode": {
    "name": "ipython",
    "version": 3
   },
   "file_extension": ".py",
   "mimetype": "text/x-python",
   "name": "python",
   "nbconvert_exporter": "python",
   "pygments_lexer": "ipython3",
   "version": "3.13.1"
  },
  "colab": {
   "provenance": []
  }
 },
 "nbformat": 4,
 "nbformat_minor": 5
}
